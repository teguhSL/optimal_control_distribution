{
 "cells": [
  {
   "cell_type": "markdown",
   "metadata": {},
   "source": [
    "#### iLQR for point mass example"
   ]
  },
  {
   "cell_type": "code",
   "execution_count": 1,
   "metadata": {},
   "outputs": [],
   "source": [
    "import numpy as np\n",
    "import matplotlib.pyplot as plt\n",
    "from IPython.display import clear_output\n",
    "import time\n",
    "from ocp import *\n",
    "from costs import *\n",
    "%load_ext autoreload\n",
    "%autoreload 2\n",
    "\n",
    "np.set_printoptions(precision=4, suppress=True)"
   ]
  },
  {
   "cell_type": "markdown",
   "metadata": {},
   "source": [
    "## Steps:"
   ]
  },
  {
   "cell_type": "markdown",
   "metadata": {},
   "source": [
    "#### 1. Define the dynamical system (e.g., double integrator, 2d robot, n-d manipulator, etc.)\n",
    "#### 2. Define the cost functions\n",
    "#### 3. Construct the ILQR problem\n",
    "#### 4. Solve"
   ]
  },
  {
   "cell_type": "markdown",
   "metadata": {},
   "source": [
    "#### Create point mass system with dimension 2 (double integrator)"
   ]
  },
  {
   "cell_type": "code",
   "execution_count": 2,
   "metadata": {},
   "outputs": [],
   "source": [
    "dt = 0.05  #duration of 1 time step\n",
    "T = 100    #total number of time steps\n",
    "Dx, Du = 4, 2 #dimensions of x and u\n",
    "\n",
    "#Define the matrix A and B to define a double integrator\n",
    "A = np.eye(Dx)\n",
    "A[:2,2:] = np.eye(2)*dt\n",
    "B = np.zeros((Dx, Du))\n",
    "B[2:, :] = np.eye(Du)\n",
    "\n",
    "sys = LinearSystem(A, B)"
   ]
  },
  {
   "cell_type": "markdown",
   "metadata": {},
   "source": [
    "#### Set initial state and control trajectory"
   ]
  },
  {
   "cell_type": "code",
   "execution_count": 4,
   "metadata": {},
   "outputs": [],
   "source": [
    "x0 = np.zeros(Dx)\n",
    "x0[3] = 1\n",
    "sys.set_init_state(x0)\n",
    "\n",
    "#set initial control to be all zeros\n",
    "us = np.zeros((T+1,sys.Du))\n",
    "_ = sys.compute_matrices(x0, us[0])\n",
    "xs = sys.rollout(us[:-1])"
   ]
  },
  {
   "cell_type": "markdown",
   "metadata": {},
   "source": [
    "#### Plot initial trajectory"
   ]
  },
  {
   "cell_type": "raw",
   "metadata": {},
   "source": [
    "sys.plot_traj(xs)"
   ]
  },
  {
   "cell_type": "markdown",
   "metadata": {},
   "source": [
    "#### Set the regularization cost coefficients Q and R "
   ]
  },
  {
   "cell_type": "code",
   "execution_count": 5,
   "metadata": {},
   "outputs": [],
   "source": [
    "Q = np.eye(sys.Dx)*0.  #coefficient for running cost\n",
    "Qf = np.eye(sys.Dx)*1  #coefficient for terminal cost\n",
    "R = np.eye(sys.Du)*.1  #control coefficient\n",
    "mu = 1e-6              #regularization coefficient"
   ]
  },
  {
   "cell_type": "markdown",
   "metadata": {},
   "source": [
    "#### Set target"
   ]
  },
  {
   "cell_type": "code",
   "execution_count": 6,
   "metadata": {},
   "outputs": [],
   "source": [
    "x_target = np.array([2, 2, 0,0])"
   ]
  },
  {
   "cell_type": "markdown",
   "metadata": {},
   "source": [
    "### iLQR using cost model"
   ]
  },
  {
   "cell_type": "markdown",
   "metadata": {},
   "source": [
    "#### Define the cost"
   ]
  },
  {
   "cell_type": "code",
   "execution_count": 7,
   "metadata": {},
   "outputs": [],
   "source": [
    "#The costs consist of: a) state tracking (Q), b) control regularization (R)\n",
    "#Running cost is for the time 0 <= t < T, while terminal cost is for the time t = T\n",
    "costs = []\n",
    "for i in range(T):\n",
    "    runningStateCost = CostModelQuadratic(sys, Q, x_ref = x_target)\n",
    "    runningControlCost = CostModelQuadratic(sys, None, R)\n",
    "    runningCost = CostModelSum(sys, [runningStateCost, runningControlCost])\n",
    "    costs += [runningCost]\n",
    "    \n",
    "terminalStateCost = CostModelQuadratic(sys,Qf, x_ref = x_target)\n",
    "terminalControlCost = CostModelQuadratic(sys, None,R)\n",
    "terminalCost = CostModelSum(sys, [terminalStateCost, terminalControlCost])\n",
    "\n",
    "costs += [terminalCost]"
   ]
  },
  {
   "cell_type": "markdown",
   "metadata": {},
   "source": [
    "#### Construct ILQR"
   ]
  },
  {
   "cell_type": "code",
   "execution_count": 8,
   "metadata": {},
   "outputs": [],
   "source": [
    "ilqr_cost = ILQR(sys, mu)\n",
    "ilqr_cost.set_init_state(x0)\n",
    "ilqr_cost.set_timestep(T)\n",
    "ilqr_cost.set_cost(costs)\n",
    "ilqr_cost.set_state(xs, us) #set initial guess"
   ]
  },
  {
   "cell_type": "markdown",
   "metadata": {},
   "source": [
    "#### Solve and Plot"
   ]
  },
  {
   "cell_type": "code",
   "execution_count": 9,
   "metadata": {},
   "outputs": [],
   "source": [
    "n_iter = 10\n",
    "ilqr_cost.solve(n_iter, method='batch')\n",
    "xs_batch, us_batch = ilqr_cost.xs, ilqr_cost.us\n",
    "\n",
    "clear_output()"
   ]
  },
  {
   "cell_type": "code",
   "execution_count": 10,
   "metadata": {},
   "outputs": [
    {
     "data": {
      "image/png": "[encoded data removed]",
      "text/plain": [
       "<Figure size 432x288 with 1 Axes>"
      ]
     },
     "metadata": {
      "needs_background": "light"
     },
     "output_type": "display_data"
    }
   ],
   "source": [
    "plt.plot(xs_batch[:,0], xs_batch[:,1], 'b-o')\n",
    "plt.plot(x_target[0], x_target[1], 'or', label='Goal')\n",
    "plt.legend()\n",
    "plt.show()"
   ]
  }
 ],
 "metadata": {
  "kernelspec": {
   "display_name": "Python 3",
   "language": "python",
   "name": "python3"
  },
  "language_info": {
   "codemirror_mode": {
    "name": "ipython",
    "version": 3
   },
   "file_extension": ".py",
   "mimetype": "text/x-python",
   "name": "python",
   "nbconvert_exporter": "python",
   "pygments_lexer": "ipython3",
   "version": "3.9.5"
  }
 },
 "nbformat": 4,
 "nbformat_minor": 4
}
