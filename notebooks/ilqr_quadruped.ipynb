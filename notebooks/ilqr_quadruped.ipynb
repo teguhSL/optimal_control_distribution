{
 "cells": [
  {
   "cell_type": "markdown",
   "metadata": {},
   "source": [
    "# Probabilistic iLQR "
   ]
  },
  {
   "cell_type": "code",
   "execution_count": 1,
   "metadata": {},
   "outputs": [],
   "source": [
    "import numpy as np\n",
    "import matplotlib.pyplot as plt\n",
    "from numpy import dot\n",
    "from numpy.linalg import inv\n",
    "from IPython.display import clear_output\n",
    "import time\n",
    "from scipy.stats import multivariate_normal as mvn\n",
    "from ocp import *\n",
    "from costs import *\n",
    "import pdb\n",
    "import os\n",
    "%load_ext autoreload\n",
    "%autoreload 2\n",
    "\n",
    "np.set_printoptions(precision=4, suppress=True)"
   ]
  },
  {
   "cell_type": "markdown",
   "metadata": {},
   "source": [
    "#### Simple 2d system"
   ]
  },
  {
   "cell_type": "code",
   "execution_count": 2,
   "metadata": {},
   "outputs": [],
   "source": [
    "dt = 0.01\n",
    "m = 1.\n",
    "A = np.eye(2)\n",
    "A[0,1] = dt\n",
    "\n",
    "B = np.zeros((2,1))\n",
    "B[1] = dt/m"
   ]
  },
  {
   "cell_type": "code",
   "execution_count": 3,
   "metadata": {},
   "outputs": [],
   "source": [
    "class JumpingRobot():       \n",
    "    def __init__(self,A,B, dt, m, g = -9.81):\n",
    "        self.A = A\n",
    "        self.B = B\n",
    "        self.Dx = A.shape[0]\n",
    "        self.Du = B.shape[1]\n",
    "        self.dt = dt\n",
    "        self.m = m\n",
    "        self.g = g\n",
    "        \n",
    "    def reset_AB(self, A,B):\n",
    "        self.A = A\n",
    "        self.B = B\n",
    "        \n",
    "    def compute_matrices(self, x, u):\n",
    "        return self.A, self.B\n",
    "        \n",
    "    def set_init_state(self,x0):\n",
    "        self.x0 = x0\n",
    "        \n",
    "    def step(self, x, u):\n",
    "        x_next = np.zeros(2)\n",
    "        \n",
    "        x_next[0] = x[0] + x[1]*self.dt\n",
    "        x_next[1] = x[1] + u*self.dt/self.m + self.g*self.dt/m\n",
    "        return x_next\n",
    "    \n",
    "    def rollout(self,us):\n",
    "        x_cur = self.x0.copy()\n",
    "        xs = [x_cur]\n",
    "        T = len(us)\n",
    "        for i in range(T):\n",
    "            x_cur = self.step(x_cur, us[i])\n",
    "            xs += [x_cur]\n",
    "        return np.array(xs)"
   ]
  },
  {
   "cell_type": "code",
   "execution_count": 4,
   "metadata": {},
   "outputs": [],
   "source": [
    "sys = JumpingRobot(A, B, dt, m)"
   ]
  },
  {
   "cell_type": "code",
   "execution_count": 42,
   "metadata": {},
   "outputs": [],
   "source": [
    "x0 = np.array([0.5, 0.])\n",
    "T = 100\n",
    "u = np.ones((T, 1))*0\n",
    "\n",
    "sys.set_init_state(x0)\n",
    "\n",
    "xs = sys.rollout(u)\n",
    "x_ref = np.array([0.5,2]) #for 1st order unicycle"
   ]
  },
  {
   "cell_type": "markdown",
   "metadata": {},
   "source": [
    "#### Define cost parameters "
   ]
  },
  {
   "cell_type": "code",
   "execution_count": 48,
   "metadata": {},
   "outputs": [],
   "source": [
    "Q = np.eye(sys.Dx)*0.\n",
    "Qf = np.eye(sys.Dx)*300\n",
    "Qf[0] *= 0\n",
    "#Qf[1,1] *= 10\n",
    "#Qf[3:,3:] = 0*Qf[3:,3:] \n",
    "R = np.eye(sys.Du)*.1\n",
    "\n",
    "\n",
    "\n",
    "mu = 1e-6"
   ]
  },
  {
   "cell_type": "code",
   "execution_count": 49,
   "metadata": {},
   "outputs": [],
   "source": [
    "bounds = np.array([[0.2, -100], [0.5, 100]])"
   ]
  },
  {
   "cell_type": "code",
   "execution_count": 50,
   "metadata": {},
   "outputs": [],
   "source": [
    "costs = []\n",
    "for i in range(T):\n",
    "    runningStateCost = CostModelQuadratic(sys, Q, x_ref = x_ref)\n",
    "    runningControlCost = CostModelQuadratic(sys, None, R)\n",
    "    runningBoundCost = CostModelBound(sys, bounds,weight=1e5 )\n",
    "    runningCost = CostModelSum(sys, [runningStateCost, runningControlCost, runningBoundCost])\n",
    "    costs += [runningCost]\n",
    "    \n",
    "terminalStateCost = CostModelQuadratic(sys,Qf, x_ref = x_ref)\n",
    "terminalControlCost = CostModelQuadratic(sys, None,R)\n",
    "terminalCost = CostModelSum(sys, [terminalStateCost, terminalControlCost])\n",
    "\n",
    "costs += [terminalCost]"
   ]
  },
  {
   "cell_type": "code",
   "execution_count": 51,
   "metadata": {},
   "outputs": [],
   "source": [
    "ilqr = ILQR(sys)\n",
    "ilqr.set_init_state(x0)\n",
    "ilqr.set_timestep(T)\n",
    "ilqr.set_cost(costs)\n",
    "# ilqr.set_ref(np.zeros((T+1,sys.Dx)))"
   ]
  },
  {
   "cell_type": "raw",
   "metadata": {},
   "source": [
    "x_refs = np.array([x_ref]*(ilqr.T +1))"
   ]
  },
  {
   "cell_type": "raw",
   "metadata": {},
   "source": [
    "ilqr.set_ref(x_refs)"
   ]
  },
  {
   "cell_type": "code",
   "execution_count": 52,
   "metadata": {},
   "outputs": [],
   "source": [
    "us = np.zeros((T+1,sys.Du))\n",
    "sys.set_init_state(x0)\n",
    "xs = sys.rollout(us[:-1])\n",
    "ilqr.set_state(xs,us)"
   ]
  },
  {
   "cell_type": "code",
   "execution_count": 53,
   "metadata": {
    "scrolled": true,
    "tags": []
   },
   "outputs": [
    {
     "name": "stdout",
     "output_type": "stream",
     "text": [
      "18524178.689779475\n",
      "1.0 990.469040931843\n",
      "990.469040931843\n",
      "1.0 900.4682874998134\n",
      "900.4682874998134\n",
      "1.0 843.787649670298\n",
      "843.787649670298\n",
      "1.0 805.7934344868785\n",
      "805.7934344868785\n",
      "1.0 782.3917138755334\n",
      "782.3917138755334\n",
      "1.0 764.7910705998461\n",
      "764.7910705998461\n",
      "1.0 751.0829777771747\n",
      "751.0829777771747\n",
      "1.0 740.0506603179017\n",
      "740.0506603179017\n",
      "1.0 730.8031519202481\n",
      "730.8031519202481\n",
      "1.0 722.9681166814755\n",
      "722.9681166814755\n",
      "1.0 718.7852785473644\n",
      "718.7852785473644\n",
      "1.0 717.725109315261\n",
      "717.725109315261\n",
      "1.0 717.5482805744207\n",
      "717.5482805744207\n",
      "1.0 717.4881735568066\n",
      "717.4881735568066\n",
      "1.0 717.4425980542145\n",
      "717.4425980542145\n",
      "1.0 717.38078982053\n",
      "717.38078982053\n",
      "1.0 717.2025444067933\n",
      "717.2025444067933\n",
      "1.0 623064.1521902473\n",
      "0.8 320404.8806960675\n",
      "0.6400000000000001 156383.36848835027\n",
      "0.5120000000000001 73859.01852007202\n",
      "0.40960000000000013 34398.29714307088\n",
      "0.32768000000000014 15897.44521404407\n",
      "0.2621440000000001 7363.292887291208\n",
      "0.2097152000000001 3507.9427441820017\n",
      "0.1677721600000001 1818.2265427167672\n",
      "0.13421772800000006 1110.7483219945636\n",
      "1110.7483219945636\n",
      "1.0 746.0133222230138\n",
      "746.0133222230138\n",
      "1.0 716.8736311828794\n",
      "716.8736311828794\n",
      "1.0 710.8133091252578\n",
      "710.8133091252578\n",
      "1.0 708.8073045290099\n",
      "708.8073045290099\n",
      "1.0 708.8073019990534\n",
      "708.8073019990534\n",
      "1.0 708.8073019922932\n",
      "708.8073019922932\n",
      "1.0 708.8073019922751\n",
      "708.8073019922751\n",
      "1.0 708.8073019922753\n",
      "0.8 708.8073019922755\n",
      "0.6400000000000001 708.8073019922754\n",
      "0.5120000000000001 708.8073019922754\n",
      "0.40960000000000013 708.8073019922754\n",
      "0.32768000000000014 708.8073019922753\n",
      "0.2621440000000001 708.8073019922753\n",
      "0.2097152000000001 708.8073019922753\n",
      "0.1677721600000001 708.8073019922751\n",
      "708.8073019922751\n",
      "1.0 708.8073019922753\n",
      "0.8 708.8073019922753\n",
      "0.6400000000000001 708.8073019922751\n",
      "708.8073019922751\n",
      "1.0 708.807301992275\n",
      "708.807301992275\n",
      "1.0 708.8073019922753\n",
      "0.8 708.8073019922753\n",
      "0.6400000000000001 708.8073019922753\n",
      "0.5120000000000001 708.807301992275\n",
      "708.807301992275\n",
      "1.0 708.8073019922753\n",
      "0.8 708.8073019922753\n",
      "0.6400000000000001 708.8073019922754\n",
      "0.5120000000000001 708.8073019922753\n",
      "0.40960000000000013 708.8073019922754\n",
      "0.32768000000000014 708.8073019922751\n",
      "0.2621440000000001 708.8073019922753\n",
      "0.2097152000000001 708.8073019922754\n",
      "0.1677721600000001 708.8073019922751\n",
      "0.13421772800000006 708.8073019922755\n",
      "708.8073019922755\n",
      "1.0 708.8073019922753\n",
      "708.8073019922753\n",
      "1.0 708.8073019922753\n",
      "708.8073019922753\n",
      "1.0 708.8073019922753\n",
      "708.8073019922753\n",
      "1.0 708.8073019922753\n",
      "708.8073019922753\n",
      "1.0 708.8073019922753\n",
      "708.8073019922753\n",
      "1.0 708.8073019922753\n",
      "708.8073019922753\n",
      "1.0 708.8073019922753\n",
      "708.8073019922753\n",
      "1.0 708.8073019922753\n",
      "708.8073019922753\n",
      "1.0 708.8073019922751\n",
      "708.8073019922751\n",
      "1.0 708.8073019922751\n",
      "708.8073019922751\n",
      "1.0 708.8073019922753\n",
      "0.8 708.8073019922753\n",
      "0.6400000000000001 708.8073019922751\n",
      "708.8073019922751\n",
      "1.0 708.8073019922754\n",
      "0.8 708.8073019922751\n",
      "708.8073019922751\n",
      "1.0 708.8073019922751\n",
      "708.8073019922751\n",
      "1.0 708.8073019922753\n",
      "0.8 708.8073019922753\n",
      "0.6400000000000001 708.8073019922751\n",
      "708.8073019922751\n",
      "1.0 708.8073019922751\n",
      "708.8073019922751\n",
      "1.0 708.8073019922751\n",
      "708.8073019922751\n",
      "1.0 708.8073019922753\n",
      "0.8 708.8073019922753\n",
      "0.6400000000000001 708.8073019922753\n",
      "0.5120000000000001 708.8073019922753\n",
      "0.40960000000000013 708.8073019922753\n",
      "0.32768000000000014 708.8073019922753\n",
      "0.2621440000000001 708.8073019922753\n",
      "0.2097152000000001 708.8073019922753\n",
      "0.1677721600000001 708.8073019922751\n",
      "708.8073019922751\n",
      "1.0 708.8073019922751\n",
      "708.8073019922751\n",
      "1.0 708.8073019922753\n",
      "0.8 708.8073019922751\n",
      "708.8073019922751\n",
      "1.0 708.8073019922753\n",
      "0.8 708.8073019922751\n"
     ]
    },
    {
     "data": {
      "text/plain": [
       "[<matplotlib.lines.Line2D at 0x7f076020b880>]"
      ]
     },
     "execution_count": 53,
     "metadata": {},
     "output_type": "execute_result"
    },
    {
     "data": {
      "image/png": "[encoded data removed]",
      "text/plain": [
       "<Figure size 432x288 with 1 Axes>"
      ]
     },
     "metadata": {
      "needs_background": "light"
     },
     "output_type": "display_data"
    }
   ],
   "source": [
    "ilqr.solve(50)\n",
    "# clear_output()\n",
    "#plt.plot(ilqr.xs[:,1], '-')\n",
    "plt.plot(ilqr.xs[:,0],ilqr.xs[:,1], '-')\n",
    "plt.plot(x_ref[0], x_ref[1], 'o')"
   ]
  },
  {
   "cell_type": "code",
   "execution_count": 54,
   "metadata": {},
   "outputs": [
    {
     "data": {
      "text/plain": [
       "[<matplotlib.lines.Line2D at 0x7f07601da610>]"
      ]
     },
     "execution_count": 54,
     "metadata": {},
     "output_type": "execute_result"
    },
    {
     "data": {
      "image/png": "[encoded data removed]",
      "text/plain": [
       "<Figure size 432x288 with 1 Axes>"
      ]
     },
     "metadata": {
      "needs_background": "light"
     },
     "output_type": "display_data"
    }
   ],
   "source": [
    "plt.plot(ilqr.xs[:,0])"
   ]
  },
  {
   "cell_type": "code",
   "execution_count": 55,
   "metadata": {},
   "outputs": [
    {
     "data": {
      "text/plain": [
       "[<matplotlib.lines.Line2D at 0x7f0760128820>]"
      ]
     },
     "execution_count": 55,
     "metadata": {},
     "output_type": "execute_result"
    },
    {
     "data": {
      "image/png": "[encoded data removed]",
      "text/plain": [
       "<Figure size 432x288 with 1 Axes>"
      ]
     },
     "metadata": {
      "needs_background": "light"
     },
     "output_type": "display_data"
    }
   ],
   "source": [
    "plt.plot(ilqr.xs[:,1])"
   ]
  },
  {
   "cell_type": "code",
   "execution_count": 56,
   "metadata": {},
   "outputs": [
    {
     "data": {
      "text/plain": [
       "[<matplotlib.lines.Line2D at 0x7f07600fcee0>]"
      ]
     },
     "execution_count": 56,
     "metadata": {},
     "output_type": "execute_result"
    },
    {
     "data": {
      "image/png": "[encoded data removed]",
      "text/plain": [
       "<Figure size 432x288 with 1 Axes>"
      ]
     },
     "metadata": {
      "needs_background": "light"
     },
     "output_type": "display_data"
    }
   ],
   "source": [
    "plt.plot(ilqr.us[:-1,0])"
   ]
  },
  {
   "cell_type": "markdown",
   "metadata": {},
   "source": [
    "#### Use Least Square to compute the distribution"
   ]
  },
  {
   "cell_type": "code",
   "execution_count": 50,
   "metadata": {},
   "outputs": [
    {
     "name": "stdout",
     "output_type": "stream",
     "text": [
      "sampling\n"
     ]
    }
   ],
   "source": [
    "n_samples = 300\n",
    "_ = ilqr.compute_du_LS()\n",
    "sample_dxs, sample_dus = ilqr.sample_du(n_samples)\n",
    "sample_dxs = np.array(sample_dxs).reshape(n_samples, T+1, -1)"
   ]
  },
  {
   "cell_type": "code",
   "execution_count": 54,
   "metadata": {},
   "outputs": [
    {
     "data": {
      "image/png": "[encoded data removed]",
      "text/plain": [
       "<Figure size 432x288 with 1 Axes>"
      ]
     },
     "metadata": {
      "needs_background": "light"
     },
     "output_type": "display_data"
    }
   ],
   "source": [
    "dim = [0,1]\n",
    "plt.plot(ilqr.xs[:,dim[0]], ilqr.xs[:,dim[1]], 'k')\n",
    "for i in range(n_samples):\n",
    "    plt.plot(ilqr.xs[:,dim[0]] + sample_dxs[i,:,dim[0]], ilqr.xs[:,dim[1]]+ sample_dxs[i,:,dim[1]], 'r-', alpha=0.04 )\n",
    "    #plt.plot(sample_xs[i,-1,0], 'o', alpha=0.3 )\n",
    "    \n",
    "plt.plot(x_ref[dim[0]], x_ref[dim[1]], 'go', markersize=12, label = 'Goal')\n",
    "#plt.title('Trajectory Distribution of Bicopter', fontsize = 16)\n",
    "plt.xlabel('y', fontsize = 13)\n",
    "h = plt.ylabel('z', fontsize = 13)\n",
    "h.set_rotation(0)\n",
    "\n",
    "    "
   ]
  }
 ],
 "metadata": {
  "kernelspec": {
   "display_name": "Python 3",
   "language": "python",
   "name": "python3"
  },
  "language_info": {
   "codemirror_mode": {
    "name": "ipython",
    "version": 3
   },
   "file_extension": ".py",
   "mimetype": "text/x-python",
   "name": "python",
   "nbconvert_exporter": "python",
   "pygments_lexer": "ipython3",
   "version": "3.9.5"
  }
 },
 "nbformat": 4,
 "nbformat_minor": 4
}
