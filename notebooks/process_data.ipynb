{
 "cells": [
  {
   "cell_type": "markdown",
   "metadata": {},
   "source": [
    "### Processing the data for the report"
   ]
  },
  {
   "cell_type": "code",
   "execution_count": 1,
   "metadata": {},
   "outputs": [],
   "source": [
    "import numpy as np\n",
    "import matplotlib.pyplot as plt"
   ]
  },
  {
   "cell_type": "code",
   "execution_count": 2,
   "metadata": {},
   "outputs": [],
   "source": [
    "sys_name = 'quadcopter'\n",
    "#sys_name = 'manipulator'\n",
    "\n",
    "noise_sizes = ['small', 'medium', 'large']\n",
    "method_names = ['feed', 'mean', 'marg', 'cond']\n",
    "print_method_names = ['iLQR$_\\\\text{{feed}}$', 'MPC$_\\\\text{{mean}}$', 'MPC$_\\\\text{{marg}}$', 'MPC$_\\\\text{{cond}}$']\n",
    "field_names = ['xs', 'us', 'x_ref_set', 'x_output_set', 'cost', 'noise', 'cost_goal', 'cost_control']"
   ]
  },
  {
   "cell_type": "raw",
   "metadata": {},
   "source": [
    "4_Varying: 0.3, 0.1, 0.01\n",
    "5_varying :0.2, 0.07, 0.03\n",
    "\n",
    "8_varying_quad: 0.5, 0.2, 0.07 (50 samples)\n",
    "8_varying_panda : 0.6, 0.3, 0.1 (50 samples)\n",
    "9_varying_quad : 0.4, 0.3, _ (10 samples)\n",
    "10_varying_quad : 0.4, _, _ (50 samples)"
   ]
  },
  {
   "cell_type": "code",
   "execution_count": 4,
   "metadata": {},
   "outputs": [],
   "source": [
    "#noise: 0.5, 1.5, 3\n",
    "data = np.load('data/ilqr_'+sys_name+'11_varying.npy', allow_pickle=True)[()]\n",
    "cost_small = []\n",
    "cost_medium = []\n",
    "cost_large = []\n",
    "for i, method_name in enumerate(method_names):\n",
    "    cost_small  += [data['small'][method_name]['cost']]\n",
    "    cost_medium += [data['medium'][method_name]['cost']]\n",
    "    cost_large  += [data['large'][method_name]['cost']]\n",
    "cost_small = np.array(cost_small)\n",
    "cost_medium = np.array(cost_medium)\n",
    "cost_large = np.array(cost_large)\n",
    "status_large = np.isnan(cost_large).astype(np.float32)\n",
    "cost_large = np.nan_to_num(cost_large) + status_large*1e5\n",
    "\n",
    "#normalize\n",
    "cost_small_min = np.min(cost_small, axis=0)\n",
    "cost_small_norm = cost_small/cost_small_min\n",
    "\n",
    "cost_medium_min = np.min(cost_medium, axis=0)\n",
    "cost_medium_norm = cost_medium/cost_medium_min\n",
    "\n",
    "cost_large_min = np.min(cost_large, axis=0)\n",
    "cost_large_norm = cost_large/cost_large_min"
   ]
  },
  {
   "cell_type": "code",
   "execution_count": 5,
   "metadata": {},
   "outputs": [
    {
     "name": "stdout",
     "output_type": "stream",
     "text": [
      "& iLQR$_\\text{{feed}}$ & nan  $\\pm$ nan  &  nan  $\\pm$  nan & 2.98  $\\pm$ 3.1 \\\\\n",
      "& MPC$_\\text{{mean}}$ & nan  $\\pm$ nan  &  nan  $\\pm$  nan & 6.02  $\\pm$ 3.2 \\\\\n",
      "& MPC$_\\text{{marg}}$ & nan  $\\pm$ nan  &  nan  $\\pm$  nan & 1.18  $\\pm$ 0.2 \\\\\n",
      "& MPC$_\\text{{cond}}$ & nan  $\\pm$ nan  &  nan  $\\pm$  nan & 1.22  $\\pm$ 0.4 \\\\\n"
     ]
    },
    {
     "name": "stderr",
     "output_type": "stream",
     "text": [
      "/home/teguh/.local/lib/python2.7/site-packages/numpy/core/fromnumeric.py:3118: RuntimeWarning: Mean of empty slice.\n",
      "  out=out, **kwargs)\n",
      "/home/teguh/.local/lib/python2.7/site-packages/numpy/core/_methods.py:85: RuntimeWarning: invalid value encountered in double_scalars\n",
      "  ret = ret.dtype.type(ret / rcount)\n",
      "/home/teguh/.local/lib/python2.7/site-packages/numpy/core/_methods.py:140: RuntimeWarning: Degrees of freedom <= 0 for slice\n",
      "  keepdims=keepdims)\n",
      "/home/teguh/.local/lib/python2.7/site-packages/numpy/core/_methods.py:110: RuntimeWarning: invalid value encountered in true_divide\n",
      "  arrmean, rcount, out=arrmean, casting='unsafe', subok=False)\n",
      "/home/teguh/.local/lib/python2.7/site-packages/numpy/core/_methods.py:132: RuntimeWarning: invalid value encountered in double_scalars\n",
      "  ret = ret.dtype.type(ret / rcount)\n"
     ]
    }
   ],
   "source": [
    "for i in range(len(method_names)):\n",
    "    print('& ' + print_method_names[i] +' & {0:.2f}  $\\pm$ {1:.2f}  &  {2:.2f}  $\\pm$  {3:.1f} & {4:.2f}  $\\pm$ {5:.1f} \\\\\\\\'.format(\n",
    "        np.mean(cost_small_norm[i]), np.std(cost_small_norm[i]), np.mean(cost_medium_norm[i]), np.std(cost_medium_norm[i]), np.mean(cost_large_norm[i]), np.std(cost_large_norm[i])))"
   ]
  },
  {
   "cell_type": "code",
   "execution_count": 5,
   "metadata": {},
   "outputs": [
    {
     "name": "stdout",
     "output_type": "stream",
     "text": [
      "& iLQR$_\\text{{feed}}$ & 1.00  $\\pm$ 0.00  &  1.00  $\\pm$  0.0 & 1.00  $\\pm$ 0.0 \\\\\n",
      "& MPC$_\\text{{mean}}$ & 1.02  $\\pm$ 0.00  &  1.03  $\\pm$  0.0 & 1.05  $\\pm$ 0.0 \\\\\n",
      "& MPC$_\\text{{marg}}$ & 1.02  $\\pm$ 0.00  &  1.03  $\\pm$  0.0 & 1.06  $\\pm$ 0.0 \\\\\n",
      "& MPC$_\\text{{cond}}$ & 1.01  $\\pm$ 0.00  &  1.01  $\\pm$  0.0 & 1.01  $\\pm$ 0.0 \\\\\n"
     ]
    }
   ],
   "source": [
    "for i in range(len(method_names)):\n",
    "    print('& ' + print_method_names[i] +' & {0:.2f}  $\\pm$ {1:.2f}  &  {2:.2f}  $\\pm$  {3:.1f} & {4:.2f}  $\\pm$ {5:.1f} \\\\\\\\'.format(\n",
    "        np.mean(cost_small_norm[i]), np.std(cost_small_norm[i]), np.mean(cost_medium_norm[i]), np.std(cost_medium_norm[i]), np.mean(cost_large_norm[i]), np.std(cost_large_norm[i])))"
   ]
  },
  {
   "cell_type": "code",
   "execution_count": 59,
   "metadata": {},
   "outputs": [],
   "source": [
    ".01#noise: 0.2, 0.7, 1.2\n",
    "data = np.load('data/ilqr_'+sys_name+'4.npy', allow_pickle=True)[()]\n",
    "cost_small = []\n",
    "cost_medium = []\n",
    "cost_large = []\n",
    "for i, method_name in enumerate(method_names):\n",
    "    cost_small  += [data['small'][method_name]['cost']]\n",
    "    cost_medium += [data['medium'][method_name]['cost']]\n",
    "    cost_large  += [data['large'][method_name]['cost']]\n",
    "cost_small = np.array(cost_small)\n",
    "cost_medium = np.array(cost_medium)\n",
    "cost_large = np.array(cost_large)\n",
    "\n",
    "#normalize\n",
    "cost_small_min = np.min(cost_small, axis=0)\n",
    "cost_small_norm = cost_small/cost_small_min\n",
    "\n",
    "cost_medium_min = np.min(cost_medium, axis=0)\n",
    "cost_medium_norm = cost_medium/cost_medium_min\n",
    "\n",
    "cost_large_min = np.min(cost_large, axis=0)\n",
    "cost_large_norm = cost_large/cost_large_min"
   ]
  },
  {
   "cell_type": "code",
   "execution_count": 60,
   "metadata": {},
   "outputs": [
    {
     "name": "stdout",
     "output_type": "stream",
     "text": [
      "& iLQR$_\\text{{feed}}$ & 1.00  $\\pm$ 0.0  &  1.10  $\\pm$  0.3 & 1.28  $\\pm$ 0.6 \\\\\n",
      "& MPC$_\\text{{mean}}$ & 1.48  $\\pm$ 0.1  &  2.58  $\\pm$  1.0 & 3.30  $\\pm$ 1.0 \\\\\n",
      "& MPC$_\\text{{marg}}$ & 1.26  $\\pm$ 0.0  &  1.23  $\\pm$  0.1 & 1.30  $\\pm$ 0.2 \\\\\n",
      "& MPC$_\\text{{cond}}$ & 1.08  $\\pm$ 0.0  &  1.05  $\\pm$  0.0 & 1.09  $\\pm$ 0.2 \\\\\n"
     ]
    }
   ],
   "source": [
    "for i in range(len(method_names)):\n",
    "    print('& ' + print_method_names[i] +' & {0:.2f}  $\\pm$ {1:.1f}  &  {2:.2f}  $\\pm$  {3:.1f} & {4:.2f}  $\\pm$ {5:.1f} \\\\\\\\'.format(\n",
    "        np.mean(cost_small_norm[i]), np.std(cost_small_norm[i]), np.mean(cost_medium_norm[i]), np.std(cost_medium_norm[i]), np.mean(cost_large_norm[i]), np.std(cost_large_norm[i])))"
   ]
  },
  {
   "cell_type": "code",
   "execution_count": null,
   "metadata": {},
   "outputs": [],
   "source": []
  },
  {
   "cell_type": "code",
   "execution_count": null,
   "metadata": {},
   "outputs": [],
   "source": []
  },
  {
   "cell_type": "code",
   "execution_count": null,
   "metadata": {},
   "outputs": [],
   "source": []
  },
  {
   "cell_type": "code",
   "execution_count": null,
   "metadata": {},
   "outputs": [],
   "source": []
  },
  {
   "cell_type": "markdown",
   "metadata": {},
   "source": [
    "***"
   ]
  },
  {
   "cell_type": "markdown",
   "metadata": {},
   "source": [
    "## Visualize the quadcopter"
   ]
  },
  {
   "cell_type": "code",
   "execution_count": 5,
   "metadata": {},
   "outputs": [],
   "source": [
    "import numpy as np\n",
    "import pybullet as p\n",
    "import pybullet_data\n",
    "import matplotlib.pyplot as plt\n",
    "\n",
    "import time\n",
    "\n",
    "from utils import *\n",
    "from casadi import *\n",
    "import crocoddyl\n",
    "from costs import *\n",
    "from ocp_sys import QuadcopterCasadi, ActionDataRobot, ActionModelRobot\n",
    "from IPython.display import clear_output\n",
    "from ocp import ILQR_Standard, get_ilqr_from_ddp\n",
    "from mixture_model import Gaussian\n",
    "np.set_printoptions(precision=3, suppress=True)\n",
    "%load_ext autoreload\n",
    "%autoreload 2"
   ]
  },
  {
   "cell_type": "markdown",
   "metadata": {},
   "source": [
    "### Configure pybullet"
   ]
  },
  {
   "cell_type": "code",
   "execution_count": 6,
   "metadata": {},
   "outputs": [],
   "source": [
    "# configure pybullet and load plane.urdf and quadcopter.urdf\n",
    "physicsClient = p.connect(p.GUI, options='--background_color_red=.6 --background_color_green=.6 --background_color_blue=.6')\n",
    "p.configureDebugVisualizer(p.COV_ENABLE_GUI,0)\n",
    "p.setAdditionalSearchPath(pybullet_data.getDataPath())"
   ]
  },
  {
   "cell_type": "code",
   "execution_count": 13,
   "metadata": {},
   "outputs": [],
   "source": [
    "p.resetSimulation()"
   ]
  },
  {
   "cell_type": "markdown",
   "metadata": {},
   "source": [
    "#### Load robot model"
   ]
  },
  {
   "cell_type": "code",
   "execution_count": 14,
   "metadata": {},
   "outputs": [],
   "source": [
    "color_path = [1,1,1,.4]\n",
    "color_ref_cond = [.95,.95,0,.8]\n",
    "color_ref_mean = [0,.9,.9,.5]\n",
    "color_robot = [1,.3,0,1]\n",
    "color_current = [0,.9,0,1]\n",
    "color_obstacle = [.1,.1,.1,.9]\n",
    "color_target = [1,1,1,0.]"
   ]
  },
  {
   "cell_type": "code",
   "execution_count": 15,
   "metadata": {},
   "outputs": [],
   "source": [
    "robotId_current = p.loadURDF(\"../files/quadrotor.urdf\",[0,0,1],p.getQuaternionFromEuler([0,0,0]))\n",
    "\n",
    "for i in range((p.getNumJoints(robotId_current))+1):\n",
    "    p.changeVisualShape(robotId_current, i-1, rgbaColor=color_current)\n"
   ]
  },
  {
   "cell_type": "code",
   "execution_count": 16,
   "metadata": {},
   "outputs": [],
   "source": [
    "robotId = p.loadURDF(\"../files/quadrotor.urdf\",[0,0,1],p.getQuaternionFromEuler([0,0,0]))\n",
    "\n",
    "for i in range((p.getNumJoints(robotId))+1):\n",
    "    p.changeVisualShape(robotId, i-1, rgbaColor=color_robot)\n",
    "\n",
    "_,_,target_id = create_primitives(p.GEOM_BOX, halfExtents=[0.1, 0.1, 0.1], rgbaColor=color_target)\n",
    "_,_,waypoint_id = create_primitives(p.GEOM_BOX, halfExtents=[0.1, 0.1, 0.1], rgbaColor=color_target)\n",
    "_,_,waypoint_id2 = create_primitives(p.GEOM_BOX, halfExtents=[0.1, 0.1, 0.1], rgbaColor=color_target)"
   ]
  },
  {
   "cell_type": "raw",
   "metadata": {},
   "source": [
    "for i in range((p.getNumJoints(robotId))+1):\n",
    "    p.changeVisualShape(robotId, i-1, rgbaColor=color_robot)\n",
    "\n",
    "p.changeVisualShape(target_id, -1, rgbaColor=color_target)\n",
    "\n",
    "p.changeVisualShape(waypoint_id, -1, rgbaColor=color_target)\n",
    "\n",
    "p.changeVisualShape(waypoint_id2, -1, rgbaColor=color_target)\n",
    "\n",
    "for ballId in ballIds:\n",
    "    p.changeVisualShape(ballId, -1, rgbaColor=color_obstacle)\n",
    "\n",
    "for t in range(T):\n",
    "    p.changeVisualShape(robotIds[t], -1, rgbaColor=color_path)\n",
    "\n",
    "for t in range(T_short):\n",
    "    #p.changeVisualShape(robotIdRefs[t], -1, rgbaColor=[0,.7,.7,.8])\n",
    "    p.changeVisualShape(robotIdRefs[t], -1, rgbaColor=color_ref_cond)\n",
    "#     if t%2 != 0:\n",
    "#         p.changeVisualShape(robotIdRefs[t], -1, rgbaColor=[.95,.95,0,0])\n",
    "        \n",
    "for t in range(T_short):\n",
    "    #p.changeVisualShape(robotIdRefs[t], -1, rgbaColor=[0,.7,.7,.8])\n",
    "    p.changeVisualShape(robotIdRefMeans[t], -1, rgbaColor=color_ref_mean)\n",
    "#     if t%2 != 0:\n",
    "#         p.changeVisualShape(robotIdRefMeans[t], -1, rgbaColor=[.95,.95,0,0])\n",
    "\n",
    "for t in range(T):\n",
    "    pos = xs_ref[t, :3]\n",
    "    ori = euler2quat(xs_ref[t,6:9], 'rzyz')\n",
    "    p.resetBasePositionAndOrientation(robotIds[t], pos, ori)\n",
    "\n",
    "xs_ref_now = x_ref_cond_set[end_t]\n",
    "for t in range(T_short):\n",
    "    pos = xs_ref_now[t, :3]\n",
    "    ori = euler2quat(xs_ref[t,6:9], 'rzyz')\n",
    "    p.resetBasePositionAndOrientation(robotIdRefs[t], pos, ori)\n",
    "\n",
    "xs_ref_now = x_ref_mean_set[end_t]\n",
    "for t in range(T_short):\n",
    "    pos = xs_ref_now[t, :3]\n",
    "    ori = euler2quat(xs_ref[t,6:9], 'rzyz')\n",
    "    p.resetBasePositionAndOrientation(robotIdRefMeans[t], pos, ori)"
   ]
  },
  {
   "cell_type": "raw",
   "metadata": {},
   "source": [
    "p.resetBasePositionAndOrientation(robotId, xs_ref[-1,:3], (0,0,0,1))"
   ]
  },
  {
   "cell_type": "markdown",
   "metadata": {},
   "source": [
    "#### Load multiple spheres"
   ]
  },
  {
   "cell_type": "code",
   "execution_count": 17,
   "metadata": {},
   "outputs": [],
   "source": [
    "pos_obs_set = [np.array([0, 2., 2.]),np.array([2., 2., 2.]), np.array([-2., 2., 2.]), np.array([1, 4., 2.]),  np.array([-1., 4., 2.]), ] \n",
    "#pos_obs_set = [np.array([0, 2., 2.]),np.array([2, 2., 2.]), np.array([-2, 2., 2.])]#, np.array([1, 4., 2.]),  np.array([-1, 4., 2.]), ] \n",
    "r_body = 0.35\n",
    "r_obs = 0.4\n",
    "margin = 0.1\n",
    "\n",
    "w_obstacle = 1000\n",
    "\n",
    "ballIds = []\n",
    "cost_collisions = []\n",
    "for pos_obs in pos_obs_set:\n",
    "    _,_,ballid = create_primitives(radius = r_obs)\n",
    "    p.changeVisualShape(ballid, -1, rgbaColor=color_obstacle)\n",
    "    p.resetBasePositionAndOrientation(ballid, pos_obs, (0,0,0,1))\n",
    "    ballIds += [ballid]\n",
    "    col_activation = ActivationCollision(nr = 3, threshold = r_body + r_obs + margin)\n",
    "    cost_collision_i = SphereSphereCollisionCost(col_activation, nu = 4, r_body = r_body, r_obs = r_obs, pos_obs = pos_obs, w = w_obstacle)\n",
    "    cost_collisions += [cost_collision_i]"
   ]
  },
  {
   "cell_type": "markdown",
   "metadata": {},
   "source": [
    "#### Define the robot_sys"
   ]
  },
  {
   "cell_type": "code",
   "execution_count": 18,
   "metadata": {},
   "outputs": [],
   "source": [
    "from ocp_sys import Bicopter"
   ]
  },
  {
   "cell_type": "code",
   "execution_count": 19,
   "metadata": {},
   "outputs": [],
   "source": [
    "sys_name = 'quadcopter' #the choices: ['quadcopter', 'bicopter', 'pendulum']\n",
    "\n",
    "use_collision = True\n",
    "\n",
    "if sys_name == 'quadcopter':\n",
    "    T = 150\n",
    "    dt = 0.05\n",
    "    robot_sys = QuadcopterCasadi(dt = dt)\n",
    "    T_short = 30\n",
    "    n_iter_short = 5\n",
    "elif sys_name == 'bicopter':\n",
    "    T = 150\n",
    "    dt = 0.05\n",
    "    T_short = 30\n",
    "    n_iter_short = 10\n",
    "    robot_sys = Bicopter(dt = dt)"
   ]
  },
  {
   "cell_type": "code",
   "execution_count": 20,
   "metadata": {},
   "outputs": [],
   "source": [
    "cost_collision = CostModelSum(robot_sys, cost_collisions)"
   ]
  },
  {
   "cell_type": "code",
   "execution_count": 21,
   "metadata": {},
   "outputs": [],
   "source": [
    "#### Load multiple robots for visualization\n",
    "robotIds = []\n",
    "for t in range(T):\n",
    "    _,_,rob_id = create_primitives(radius = 0.05)\n",
    "    #robotIds += [p.loadURDF(\"../files/quadrotor.urdf\",[0,0,1],p.getQuaternionFromEuler([0,0,0]))]\n",
    "    robotIds += [rob_id]\n",
    "    p.changeVisualShape(rob_id, -1, rgbaColor=color_path)\n",
    "        "
   ]
  },
  {
   "cell_type": "code",
   "execution_count": 22,
   "metadata": {},
   "outputs": [],
   "source": [
    "# for visualizing the reference\n",
    "robotIdRefs = []\n",
    "for t in range(T_short):\n",
    "    #robotIdRefs += [p.loadURDF(\"../files/quadrotor.urdf\",[0,0,1],p.getQuaternionFromEuler([0,0,0]))]\n",
    "    _,_,rob_id = create_primitives(radius = 0.05)\n",
    "    robotIdRefs += [rob_id]\n",
    "\n",
    "    for i in range((p.getNumJoints(robotIdRefs[-1]))+1):\n",
    "        p.changeVisualShape(robotIdRefs[-1], i-1, rgbaColor=color_ref_cond)\n",
    "        "
   ]
  },
  {
   "cell_type": "code",
   "execution_count": 23,
   "metadata": {},
   "outputs": [],
   "source": [
    "# for visualizing the reference\n",
    "robotIdRefMeans = []\n",
    "for t in range(T_short):\n",
    "#    robotIdRefMeans += [p.loadURDF(\"../files/quadrotor.urdf\",[0,0,1],p.getQuaternionFromEuler([0,0,0]))]\n",
    "    _,_,rob_id = create_primitives(radius = 0.05)\n",
    "    robotIdRefMeans += [rob_id]\n",
    "    for i in range((p.getNumJoints(robotIdRefMeans[-1]))+1):\n",
    "        p.changeVisualShape(robotIdRefMeans[-1], i-1, rgbaColor=color_ref_mean)"
   ]
  },
  {
   "cell_type": "markdown",
   "metadata": {},
   "source": [
    "# 1. Plan using iLQR with long horizon"
   ]
  },
  {
   "cell_type": "markdown",
   "metadata": {},
   "source": [
    "#### Setting cost"
   ]
  },
  {
   "cell_type": "code",
   "execution_count": 24,
   "metadata": {},
   "outputs": [],
   "source": [
    "if sys_name == 'quadcopter':\n",
    "    x_waypoint = np.array([-1.,2.,2.,0,0,0,0,0,0,0,0,0])\n",
    "    T_waypoint = 60\n",
    "    x_waypoint2 = np.array([0,4.,2.,0,0,0,0,0,0,0,0,0])\n",
    "    T_waypoint2 = 100\n",
    "    x_ref = np.array([0,7.,2.,0,0,0,0,0,0,0,0,0]) #for quadcopter\n",
    "    p.resetBasePositionAndOrientation(target_id, x_ref[:3], (0,0,0,1))\n",
    "    p.resetBasePositionAndOrientation(waypoint_id, x_waypoint[:3], (0,0,0,1))\n",
    "    p.resetBasePositionAndOrientation(waypoint_id2, x_waypoint2[:3], (0,0,0,1))\n",
    "    Q = np.eye(robot_sys.Dx)*.1\n",
    "    Qf = np.eye(robot_sys.Dx)*1000\n",
    "    R = np.eye(robot_sys.Du)*.1\n",
    "elif sys_name == 'bicopter':\n",
    "    x_ref = np.array([3,3,0,0,0,0]) #for bicopter\n",
    "    Q = np.eye(robot_sys.Dx)*.1\n",
    "    #Q[2:,2:] = 0*Q[2:,2:] \n",
    "    Qf = np.eye(robot_sys.Dx)*100\n",
    "    #Qf[2:,2:] = 0*Qf[2:,2:] \n",
    "    R = np.eye(robot_sys.Du)*1.\n",
    "    \n",
    "costs = []\n",
    "for i in range(T):\n",
    "    if i <= T_waypoint:\n",
    "        cur_ref = x_waypoint.copy()\n",
    "    elif i <= T_waypoint2:\n",
    "         cur_ref = x_waypoint2.copy()        \n",
    "    else:\n",
    "        cur_ref = x_ref.copy()\n",
    "    if i == T_waypoint or i == T_waypoint2: \n",
    "        Q_cur = 0.1*Qf.copy()\n",
    "        Q_cur[3:6,3:6] *= 0\n",
    "        Q_cur[9:,9:] *= 0\n",
    "    else:\n",
    "        Q_cur = Q.copy()\n",
    "    runningStateCost = CostModelQuadratic(robot_sys, Q_cur, x_ref = cur_ref)\n",
    "    runningControlCost = CostModelQuadratic(robot_sys, None, R)\n",
    "    if use_collision:\n",
    "        runningCost = CostModelSum(robot_sys, [runningStateCost, runningControlCost, cost_collision])\n",
    "    else:\n",
    "        runningCost = CostModelSum(robot_sys, [runningStateCost, runningControlCost])        \n",
    "    costs += [runningCost]\n",
    "\n",
    "#### Setup crocoddyl model\n",
    "rmodels = []\n",
    "for i in range(T):\n",
    "    state = crocoddyl.StateVector(robot_sys.Dx)\n",
    "    rmodel = ActionModelRobot(state, robot_sys.Du)\n",
    "    rmodel.init_robot_sys(robot_sys, nr = robot_sys.Dx)\n",
    "    rmodel.set_cost(costs[i])\n",
    "    rmodels += [rmodel]\n",
    "\n",
    "terminalStateCost = CostModelQuadratic(robot_sys,Qf, x_ref = x_ref)\n",
    "terminalControlCost = CostModelQuadratic(robot_sys, None,R)\n",
    "if use_collision:\n",
    "    terminalCost = CostModelSum(robot_sys, [terminalStateCost, terminalControlCost, cost_collision])\n",
    "else:\n",
    "    terminalCost = CostModelSum(robot_sys, [terminalStateCost, terminalControlCost])\n",
    "\n",
    "rmodel_T = ActionModelRobot(state, robot_sys.Du)\n",
    "rmodel_T.init_robot_sys(robot_sys, nr = robot_sys.Dx)\n",
    "rmodel_T.set_cost(terminalCost)"
   ]
  },
  {
   "cell_type": "markdown",
   "metadata": {},
   "source": [
    "#### Setup problem & initial guess"
   ]
  },
  {
   "cell_type": "code",
   "execution_count": 25,
   "metadata": {},
   "outputs": [],
   "source": [
    "#initial state\n",
    "if sys_name == 'quadcopter':\n",
    "    x0 = np.array([ 0.,  0., 0.,  0.,  0.,  0.,  0.,  0.,  0.,  0.,  0.,  0.])\n",
    "    us = np.zeros((T, robot_sys.Du))\n",
    "elif sys_name == 'bicopter':\n",
    "    x0 = np.zeros(6)\n",
    "    u_shift = 9.8*robot_sys.m/2\n",
    "    us = np.ones((T, robot_sys.Du))*u_shift\n",
    "\n",
    "robot_sys.set_init_state(x0)\n",
    "xs = robot_sys.rollout(us)\n",
    "problem = crocoddyl.ShootingProblem(x0, rmodels, rmodel_T)"
   ]
  },
  {
   "cell_type": "markdown",
   "metadata": {},
   "source": [
    "#### Solve"
   ]
  },
  {
   "cell_type": "code",
   "execution_count": 26,
   "metadata": {},
   "outputs": [],
   "source": [
    "ddp = crocoddyl.SolverFDDP(problem)\n",
    "\n",
    "ddp.th_grad = 1e-6\n",
    "ddp.th_stop = 1e-6\n",
    "ddp.setCallbacks([crocoddyl.CallbackVerbose()])\n",
    "\n",
    "ddp.solve(list(xs[:,:,None]), list(us[:,:,None]), maxiter=1000)\n",
    "\n",
    "xs_ref, us_ref = np.array(ddp.xs), np.array(ddp.us)"
   ]
  },
  {
   "cell_type": "markdown",
   "metadata": {},
   "source": [
    "#### Visualize the path by multiple robots"
   ]
  },
  {
   "cell_type": "code",
   "execution_count": 27,
   "metadata": {},
   "outputs": [],
   "source": [
    "if sys_name == 'quadcopter':\n",
    "    for t in range(T):\n",
    "        pos = xs_ref[t, :3]\n",
    "        ori = euler2quat(xs_ref[t,6:9], 'rzyz')\n",
    "        p.resetBasePositionAndOrientation(robotIds[t], pos, ori)"
   ]
  },
  {
   "cell_type": "markdown",
   "metadata": {},
   "source": [
    "#### Select 1 experiment"
   ]
  },
  {
   "cell_type": "code",
   "execution_count": 28,
   "metadata": {},
   "outputs": [],
   "source": [
    "start_t = 65\n",
    "end_t = 67"
   ]
  },
  {
   "cell_type": "code",
   "execution_count": 29,
   "metadata": {},
   "outputs": [],
   "source": [
    "i = 0"
   ]
  },
  {
   "cell_type": "code",
   "execution_count": 30,
   "metadata": {},
   "outputs": [],
   "source": [
    "p.resetBasePositionAndOrientation(robotId, xs_ref[-1,:3], (0,0,0,1))"
   ]
  },
  {
   "cell_type": "code",
   "execution_count": 31,
   "metadata": {},
   "outputs": [],
   "source": [
    "p.resetBasePositionAndOrientation(robotId_current, xs_ref[end_t,:3], (0,0,0,1))"
   ]
  },
  {
   "cell_type": "code",
   "execution_count": 32,
   "metadata": {},
   "outputs": [
    {
     "data": {
      "text/plain": [
       "(28, 38, 44, 46)"
      ]
     },
     "execution_count": 32,
     "metadata": {},
     "output_type": "execute_result"
    }
   ],
   "source": [
    "28, 38, 44, 46"
   ]
  },
  {
   "cell_type": "code",
   "execution_count": 33,
   "metadata": {},
   "outputs": [
    {
     "name": "stdout",
     "output_type": "stream",
     "text": [
      "28\n"
     ]
    }
   ],
   "source": [
    "field_names = ['xs', 'us', 'x_ref_set', 'x_output_set', 'cost', 'noise', 'cost_goal', 'cost_control']\n",
    "i = 28\n",
    "print(i)\n",
    "lev = 'medium'\n",
    "#xs = data['small'][method_name]['xs'][i]\n",
    "x_ref_mean_set = data[lev]['mean']['x_ref_set'][i]\n",
    "x_ref_cond_set = data[lev]['cond']['x_ref_set'][i]\n",
    "\n",
    "for t in range(T):\n",
    "    pos = xs_ref[t, :3]\n",
    "    ori = euler2quat(xs_ref[t,6:9], 'rzyz')\n",
    "    p.resetBasePositionAndOrientation(robotIds[t], pos, ori)\n",
    "\n",
    "xs_ref_now = x_ref_cond_set[end_t]\n",
    "for t in range(T_short):\n",
    "    pos = xs_ref_now[t, :3]\n",
    "    ori = euler2quat(xs_ref[t,6:9], 'rzyz')\n",
    "    p.resetBasePositionAndOrientation(robotIdRefs[t], pos, ori)\n",
    "\n",
    "xs_ref_now = x_ref_mean_set[end_t]\n",
    "for t in range(T_short):\n",
    "    pos = xs_ref_now[t, :3]\n",
    "    ori = euler2quat(xs_ref[t,6:9], 'rzyz')\n",
    "    p.resetBasePositionAndOrientation(robotIdRefMeans[t], pos, ori)"
   ]
  },
  {
   "cell_type": "code",
   "execution_count": 43,
   "metadata": {},
   "outputs": [
    {
     "data": {
      "image/png": "[encoded data removed]",
      "text/plain": [
       "<PIL.PngImagePlugin.PngImageFile image mode=RGB size=700x460 at 0x7F74C7CAD4D0>"
      ]
     },
     "execution_count": 43,
     "metadata": {},
     "output_type": "execute_result"
    }
   ],
   "source": [
    "p.resetDebugVisualizerCamera(cameraDistance=5.5, cameraYaw=-60, \n",
    "                             cameraPitch= -40, cameraTargetPosition=np.array([0,3.5,2]))\n",
    "\n",
    "save_screenshot(200, 420, 900, 880, 'temp/quadcopter.png')"
   ]
  },
  {
   "cell_type": "code",
   "execution_count": null,
   "metadata": {},
   "outputs": [],
   "source": []
  }
 ],
 "metadata": {
  "kernelspec": {
   "display_name": "Python 3",
   "language": "python",
   "name": "python3"
  },
  "language_info": {
   "codemirror_mode": {
    "name": "ipython",
    "version": 2
   },
   "file_extension": ".py",
   "mimetype": "text/x-python",
   "name": "python",
   "nbconvert_exporter": "python",
   "pygments_lexer": "ipython2",
   "version": "2.7.12"
  }
 },
 "nbformat": 4,
 "nbformat_minor": 2
}
