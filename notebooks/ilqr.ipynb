{
 "cells": [
  {
   "cell_type": "markdown",
   "metadata": {},
   "source": [
    "# Probabilistic iLQR "
   ]
  },
  {
   "cell_type": "code",
   "execution_count": 1,
   "metadata": {},
   "outputs": [],
   "source": [
    "import numpy as np\n",
    "import matplotlib.pyplot as plt\n",
    "from numpy import dot\n",
    "from numpy.linalg import inv\n",
    "from IPython.display import clear_output\n",
    "import time\n",
    "from scipy.stats import multivariate_normal as mvn\n",
    "from ocp import *\n",
    "import pdb\n",
    "import os\n",
    "%load_ext autoreload\n",
    "%autoreload 2\n",
    "\n",
    "np.set_printoptions(precision=4, suppress=True)"
   ]
  },
  {
   "cell_type": "markdown",
   "metadata": {},
   "source": [
    "#### Creating a 2nd order unicycle "
   ]
  },
  {
   "cell_type": "raw",
   "metadata": {},
   "source": [
    "sys = SecondUnicycle(dt = 0.03)\n",
    "sys_name = 'Unicycle'\n",
    "\n",
    "x0 = np.array([-1,-1,0, 0, 0])\n",
    "T = 200\n",
    "u = np.ones((T, sys.Dx))\n",
    "\n",
    "sys.set_init_state(x0)\n",
    "sys.compute_matrices(x0,u[0])\n",
    "xs = sys.rollout(u)\n",
    "x_ref = np.array([2,2,0,0,0]) #for 2nd order unicycle\n",
    "plt.plot(xs[:,0], xs[:,1])"
   ]
  },
  {
   "cell_type": "markdown",
   "metadata": {},
   "source": [
    "#### Creating a Pendulum"
   ]
  },
  {
   "cell_type": "code",
   "execution_count": null,
   "metadata": {},
   "outputs": [],
   "source": [
    "sys = Pendulum(dt = 0.05)\n",
    "sys_name = 'Inverted_Pendulum'\n",
    "sys.b = 0.01\n",
    "x0 = np.array([4*np.pi/4, 0])\n",
    "sys.set_init_state(x0)\n",
    "\n",
    "T = 200\n",
    "us = np.zeros((T,sys.Du))\n",
    "xs = sys.rollout(us)\n",
    "x_ref = np.array([0,0]) #for pendulum\n",
    "# sys.plot_traj(xs, dt = 0.01)"
   ]
  },
  {
   "cell_type": "markdown",
   "metadata": {},
   "source": [
    "#### Creating a Bicopter "
   ]
  },
  {
   "cell_type": "raw",
   "metadata": {},
   "source": [
    "sys = Bicopter(dt = 0.05)\n",
    "sys_name = 'Bicopter'\n",
    "x0 = np.zeros(6)\n",
    "sys.set_init_state(x0)\n",
    "T = 100\n",
    "us = np.ones((T, sys.Du))*20\n",
    "us[:,0] *= 2\n",
    "xs = sys.rollout(us)\n",
    "_ = sys.compute_matrices(x0, us[0])\n",
    "x_ref = np.array([2,2,0,0,0,0]) #for bicopter"
   ]
  },
  {
   "cell_type": "markdown",
   "metadata": {},
   "source": [
    "##  Using Class"
   ]
  },
  {
   "cell_type": "markdown",
   "metadata": {},
   "source": [
    "#### Define cost parameters "
   ]
  },
  {
   "cell_type": "code",
   "execution_count": 34,
   "metadata": {},
   "outputs": [],
   "source": [
    "if sys_name == 'Bicopter':\n",
    "    Q = np.eye(sys.Dx)*0.\n",
    "    #Q[1,1] *= 10\n",
    "    #Q[3:,3:] = 0*Q[3:,3:] \n",
    "    Qf = np.eye(sys.Dx)*100\n",
    "    #Qf[1,1] *= 10\n",
    "    #Qf[3:,3:] = 0*Qf[3:,3:] \n",
    "    R = np.eye(sys.Du)*.1\n",
    "elif sys_name == 'Inverted_Pendulum':\n",
    "    Q = np.eye(sys.Dx)*0.1\n",
    "    Q[1,1] *= 1\n",
    "    #Q[3:,3:] = 0*Q[3:,3:] \n",
    "    Qf = np.eye(sys.Dx)*300\n",
    "    #Qf[1,1] *= 10\n",
    "    #Qf[3:,3:] = 0*Qf[3:,3:] \n",
    "    R = np.eye(sys.Du)*.3\n",
    "elif sys_name == 'Unicycle':\n",
    "    Q = np.eye(sys.Dx)*0.1\n",
    "    #Q[1,1] *= 10\n",
    "    #Q[3:,3:] = 0*Q[3:,3:] \n",
    "    Qf = np.eye(sys.Dx)*300\n",
    "    #Qf[1,1] *= 10\n",
    "    #Qf[3:,3:] = 0*Qf[3:,3:] \n",
    "    R = np.eye(sys.Du)*.1\n",
    "    \n",
    "    \n",
    "    \n",
    "mu = 1e-6"
   ]
  },
  {
   "cell_type": "raw",
   "metadata": {},
   "source": [
    "Q = np.array([np.eye(sys.Dx)*0]*T + [np.eye(sys.Dx)*10000])\n",
    "R = np.array([np.eye(sys.Du)*.01]*(T+1))\n",
    "mu = 1e-6"
   ]
  },
  {
   "cell_type": "code",
   "execution_count": 35,
   "metadata": {},
   "outputs": [],
   "source": [
    "ilqr = ILQR_Standard(sys)\n",
    "ilqr.set_init_state(x0)\n",
    "ilqr.set_timestep(T)\n",
    "ilqr.set_cost(Q,R,Qf)\n",
    "ilqr.set_ref(np.zeros((T+1,sys.Dx)))"
   ]
  },
  {
   "cell_type": "code",
   "execution_count": 36,
   "metadata": {},
   "outputs": [],
   "source": [
    "if sys_name == 'Bicopter':\n",
    "    x_ref = np.array([2,2,0,0,0,0]) #for bicopter\n",
    "elif sys_name == 'Inverted_Pendulum':\n",
    "    x_ref = np.array([0,0]) #for pendulum\n",
    "elif sys_name == 'Unicycle':\n",
    "    x_ref = np.array([2,2,-np.pi/2,0,0]) #for 2nd order unicycle\n",
    "    #x_ref = np.array([2,2,0]) #for 1st order unicycle\n",
    "x_refs = np.array([x_ref]*(ilqr.T +1))"
   ]
  },
  {
   "cell_type": "code",
   "execution_count": 37,
   "metadata": {},
   "outputs": [],
   "source": [
    "ilqr.set_ref(x_refs)"
   ]
  },
  {
   "cell_type": "code",
   "execution_count": 51,
   "metadata": {},
   "outputs": [],
   "source": [
    "us = np.zeros((T+1,sys.Du))\n",
    "sys.set_init_state(x0)\n",
    "xs = sys.rollout(us[:-1])\n",
    "ilqr.set_state(xs,us)"
   ]
  },
  {
   "cell_type": "code",
   "execution_count": 53,
   "metadata": {
    "scrolled": true,
    "tags": []
   },
   "outputs": [
    {
     "data": {
      "text/plain": [
       "Text(0.5, 1.0, 'Inverted_Pendulum')"
      ]
     },
     "execution_count": 53,
     "metadata": {},
     "output_type": "execute_result"
    },
    {
     "data": {
      "image/png": "[encoded data removed]",
      "text/plain": [
       "<Figure size 432x288 with 1 Axes>"
      ]
     },
     "metadata": {
      "needs_background": "light"
     },
     "output_type": "display_data"
    }
   ],
   "source": [
    "ilqr.solve(50, method='batch')\n",
    "clear_output()\n",
    "#plt.plot(ilqr.xs[:,1], '-')\n",
    "plt.plot(ilqr.xs[:,0],ilqr.xs[:,1], '-')\n",
    "plt.plot(x_ref[0], x_ref[1], 'o')\n",
    "plt.title(sys_name)"
   ]
  },
  {
   "cell_type": "code",
   "execution_count": 55,
   "metadata": {},
   "outputs": [
    {
     "data": {
      "image/png": "[encoded data removed]",
      "text/plain": [
       "<Figure size 432x288 with 1 Axes>"
      ]
     },
     "metadata": {
      "needs_background": "light"
     },
     "output_type": "display_data"
    }
   ],
   "source": [
    "xs = np.concatenate([ilqr.xs[:], [ilqr.xs[-1]]*10])\n",
    "\n",
    "if sys_name == 'Inverted_Pendulum':\n",
    "    sys.plot_traj(xs, dt=0.01,  goal=x_ref, alpha=0.1)\n",
    "elif sys_name == 'Bicopter':\n",
    "    sys.vis_traj(xs, axes_lim=[-2.5,2.8,-2.5,2.8], dt=0.01, goal=x_ref, alpha=0.2)\n",
    "elif sys_name == 'Unicycle':\n",
    "    sys.plot_traj(xs, goal=x_ref)"
   ]
  }
 ],
 "metadata": {
  "kernelspec": {
   "display_name": "Python 3",
   "language": "python",
   "name": "python3"
  },
  "language_info": {
   "codemirror_mode": {
    "name": "ipython",
    "version": 3
   },
   "file_extension": ".py",
   "mimetype": "text/x-python",
   "name": "python",
   "nbconvert_exporter": "python",
   "pygments_lexer": "ipython3",
   "version": "3.9.5"
  }
 },
 "nbformat": 4,
 "nbformat_minor": 4
}
