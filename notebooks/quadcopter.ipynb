{
 "cells": [
  {
   "cell_type": "code",
   "execution_count": 1,
   "metadata": {},
   "outputs": [],
   "source": [
    "import numpy as np\n",
    "import pybullet as p\n",
    "import pybullet_data\n",
    "import matplotlib.pyplot as plt\n",
    "\n",
    "import time\n",
    "\n",
    "from utils import *\n",
    "from casadi import *\n",
    "import crocoddyl\n",
    "from costs import *\n",
    "from ocp_sys import QuadcopterCasadi, ActionDataRobot, ActionModelRobot\n",
    "from IPython.display import clear_output\n",
    "from ocp import ILQR_Standard, get_ilqr_from_ddp\n",
    "from mixture_model import Gaussian\n",
    "np.set_printoptions(precision=3, suppress=True)\n",
    "%load_ext autoreload\n",
    "%autoreload 2"
   ]
  },
  {
   "cell_type": "markdown",
   "metadata": {},
   "source": [
    "### Configure pybullet"
   ]
  },
  {
   "cell_type": "code",
   "execution_count": 2,
   "metadata": {},
   "outputs": [],
   "source": [
    "# configure pybullet and load plane.urdf and quadcopter.urdf\n",
    "physicsClient = p.connect(p.GUI, options='--background_color_red=.6 --background_color_green=.6 --background_color_blue=.6')\n",
    "p.configureDebugVisualizer(p.COV_ENABLE_GUI,0)\n",
    "p.setAdditionalSearchPath(pybullet_data.getDataPath())"
   ]
  },
  {
   "cell_type": "code",
   "execution_count": 3,
   "metadata": {},
   "outputs": [],
   "source": [
    "p.resetSimulation()"
   ]
  },
  {
   "cell_type": "markdown",
   "metadata": {},
   "source": [
    "#### Load robot model"
   ]
  },
  {
   "cell_type": "code",
   "execution_count": 4,
   "metadata": {},
   "outputs": [],
   "source": [
    "color_path = [1,1,1,.4]\n",
    "color_ref_cond = [.95,.95,0,.5]\n",
    "color_ref_mean = [0,.9,.9,.5]\n",
    "color_robot = [1,.3,0,1]\n",
    "color_obstacle = [.1,.1,.1,.9]\n",
    "color_target = [1,1,1,0.]"
   ]
  },
  {
   "cell_type": "code",
   "execution_count": 5,
   "metadata": {},
   "outputs": [],
   "source": [
    "robotId = p.loadURDF(\"../files/quadrotor.urdf\",[0,0,1],p.getQuaternionFromEuler([0,0,0]))\n",
    "\n",
    "for i in range((p.getNumJoints(robotId))+1):\n",
    "    p.changeVisualShape(robotId, i-1, rgbaColor=[1,0,0,0.6])\n",
    "\n",
    "_,_,target_id = create_primitives(p.GEOM_BOX, halfExtents=[0.1, 0.1, 0.1], rgbaColor=color_target)\n",
    "_,_,waypoint_id = create_primitives(p.GEOM_BOX, halfExtents=[0.1, 0.1, 0.1], rgbaColor=color_target)\n",
    "_,_,waypoint_id2 = create_primitives(p.GEOM_BOX, halfExtents=[0.1, 0.1, 0.1], rgbaColor=color_target)"
   ]
  },
  {
   "cell_type": "raw",
   "metadata": {},
   "source": [
    "for i in range((p.getNumJoints(robotId))+1):\n",
    "    p.changeVisualShape(robotId, i-1, rgbaColor=color_robot)\n",
    "\n",
    "p.changeVisualShape(target_id, -1, rgbaColor=color_target)\n",
    "\n",
    "p.changeVisualShape(waypoint_id, -1, rgbaColor=color_target)\n",
    "\n",
    "p.changeVisualShape(waypoint_id2, -1, rgbaColor=color_target)\n",
    "\n",
    "for ballId in ballIds:\n",
    "    p.changeVisualShape(ballId, -1, rgbaColor=color_obstacle)\n",
    "\n",
    "for t in range(T):\n",
    "    p.changeVisualShape(robotIds[t], -1, rgbaColor=color_path)\n",
    "\n",
    "for t in range(T_short):\n",
    "    #p.changeVisualShape(robotIdRefs[t], -1, rgbaColor=[0,.7,.7,.8])\n",
    "    p.changeVisualShape(robotIdRefs[t], -1, rgbaColor=color_ref_cond)\n",
    "#     if t%2 != 0:\n",
    "#         p.changeVisualShape(robotIdRefs[t], -1, rgbaColor=[.95,.95,0,0])\n",
    "        \n",
    "for t in range(T_short):\n",
    "    #p.changeVisualShape(robotIdRefs[t], -1, rgbaColor=[0,.7,.7,.8])\n",
    "    p.changeVisualShape(robotIdRefMeans[t], -1, rgbaColor=color_ref_mean)\n",
    "#     if t%2 != 0:\n",
    "#         p.changeVisualShape(robotIdRefMeans[t], -1, rgbaColor=[.95,.95,0,0])\n",
    "\n",
    "for t in range(T):\n",
    "    pos = xs_ref[t, :3]\n",
    "    ori = euler2quat(xs_ref[t,6:9], 'rzyz')\n",
    "    p.resetBasePositionAndOrientation(robotIds[t], pos, ori)\n",
    "\n",
    "xs_ref_now = x_ref_cond_set[end_t]\n",
    "for t in range(T_short):\n",
    "    pos = xs_ref_now[t, :3]\n",
    "    ori = euler2quat(xs_ref[t,6:9], 'rzyz')\n",
    "    p.resetBasePositionAndOrientation(robotIdRefs[t], pos, ori)\n",
    "\n",
    "xs_ref_now = x_ref_mean_set[end_t]\n",
    "for t in range(T_short):\n",
    "    pos = xs_ref_now[t, :3]\n",
    "    ori = euler2quat(xs_ref[t,6:9], 'rzyz')\n",
    "    p.resetBasePositionAndOrientation(robotIdRefMeans[t], pos, ori)"
   ]
  },
  {
   "cell_type": "raw",
   "metadata": {},
   "source": [
    "p.resetBasePositionAndOrientation(robotId, xs_ref[-1,:3], (0,0,0,1))"
   ]
  },
  {
   "cell_type": "markdown",
   "metadata": {},
   "source": [
    "#### Load obstacle"
   ]
  },
  {
   "cell_type": "raw",
   "metadata": {},
   "source": [
    "cost_collisions = []"
   ]
  },
  {
   "cell_type": "raw",
   "metadata": {},
   "source": [
    "pos_obs = np.array([0, 2., .5])\n",
    "r_body = 0.2\n",
    "r_obs = 0.5\n",
    "margin = 0.1\n",
    "w_obstacle = 1000\n",
    "_,_,ballid = create_primitives(radius = r_obs)\n",
    "p.resetBasePositionAndOrientation(ballid, pos_obs, (0,0,0,1))\n",
    "col_activation = ActivationCollision(nr = 3, threshold = r_body + r_obs + margin)\n",
    "cost_collision_i = SphereSphereCollisionCost(col_activation, nu = 4, r_body = r_body, r_obs = r_obs, pos_obs = pos_obs, w = w_obstacle)\n",
    "cost_collisions += [cost_collision_i]"
   ]
  },
  {
   "cell_type": "markdown",
   "metadata": {},
   "source": [
    "#### Load multiple spheres"
   ]
  },
  {
   "cell_type": "code",
   "execution_count": 6,
   "metadata": {},
   "outputs": [],
   "source": [
    "pos_obs_set = [np.array([0, 2., 2.]),np.array([2., 2., 2.]), np.array([-2., 2., 2.]), np.array([1, 4., 2.]),  np.array([-1., 4., 2.]), ] \n",
    "#pos_obs_set = [np.array([0, 2., 2.]),np.array([2, 2., 2.]), np.array([-2, 2., 2.])]#, np.array([1, 4., 2.]),  np.array([-1, 4., 2.]), ] \n",
    "r_body = 0.35\n",
    "r_obs = 0.4\n",
    "margin = 0.1\n",
    "\n",
    "w_obstacle = 1000\n",
    "\n",
    "ballIds = []\n",
    "cost_collisions = []\n",
    "for pos_obs in pos_obs_set:\n",
    "    _,_,ballid = create_primitives(radius = r_obs)\n",
    "    p.resetBasePositionAndOrientation(ballid, pos_obs, (0,0,0,1))\n",
    "    ballIds += [ballid]\n",
    "    col_activation = ActivationCollision(nr = 3, threshold = r_body + r_obs + margin)\n",
    "    cost_collision_i = SphereSphereCollisionCost(col_activation, nu = 4, r_body = r_body, r_obs = r_obs, pos_obs = pos_obs, w = w_obstacle)\n",
    "    cost_collisions += [cost_collision_i]"
   ]
  },
  {
   "cell_type": "markdown",
   "metadata": {},
   "source": [
    "#### Capsule obstacles"
   ]
  },
  {
   "cell_type": "raw",
   "metadata": {},
   "source": [
    "quat = p.getQuaternionFromAxisAngle( (0,1,0), np.pi/2)\n",
    "\n",
    "pos_obs = np.array([0.2, 2, 1.5])\n",
    "r_body = 0.2\n",
    "r_obs = 0.2\n",
    "l_obs = 4\n",
    "margin = 0.3\n",
    "w_obstacle = 1000\n",
    "\n",
    "p1 = np.array([pos_obs[0]- l_obs/2, pos_obs[1], pos_obs[2] ])\n",
    "p2 = np.array([pos_obs[0]+ l_obs/2, pos_obs[1], pos_obs[2] ])\n",
    "\n",
    "_,_,capsuleid = create_primitives(p.GEOM_CAPSULE, radius = r_obs,  length = l_obs)\n",
    "p.resetBasePositionAndOrientation(capsuleid, pos_obs, quat)\n",
    "col_activation = ActivationCollision(nr = 3, threshold = r_body + r_obs + margin)\n",
    "cost_collision_i = SphereCapsuleCollisionCost(col_activation, nu = 4, p1 = p1, p2 = p2, w= w_obstacle)\n",
    "cost_collisions += [cost_collision_i]"
   ]
  },
  {
   "cell_type": "markdown",
   "metadata": {},
   "source": [
    "#### Define the robot_sys"
   ]
  },
  {
   "cell_type": "code",
   "execution_count": 7,
   "metadata": {},
   "outputs": [],
   "source": [
    "from ocp_sys import Bicopter"
   ]
  },
  {
   "cell_type": "code",
   "execution_count": 8,
   "metadata": {},
   "outputs": [],
   "source": [
    "sys_name = 'quadcopter' #the choices: ['quadcopter', 'bicopter', 'pendulum']\n",
    "\n",
    "use_collision = True\n",
    "\n",
    "if sys_name == 'quadcopter':\n",
    "    T = 150\n",
    "    dt = 0.05\n",
    "    robot_sys = QuadcopterCasadi(dt = dt)\n",
    "    T_short = 10\n",
    "    n_iter_short = 1\n",
    "elif sys_name == 'bicopter':\n",
    "    T = 150\n",
    "    dt = 0.05\n",
    "    T_short = 30\n",
    "    n_iter_short = 10\n",
    "    robot_sys = Bicopter(dt = dt)"
   ]
  },
  {
   "cell_type": "code",
   "execution_count": 9,
   "metadata": {},
   "outputs": [],
   "source": [
    "cost_collision = CostModelSum(robot_sys, cost_collisions)"
   ]
  },
  {
   "cell_type": "code",
   "execution_count": 10,
   "metadata": {},
   "outputs": [],
   "source": [
    "#### Load multiple robots for visualization\n",
    "robotIds = []\n",
    "for t in range(T):\n",
    "    _,_,rob_id = create_primitives(radius = 0.05)\n",
    "    #robotIds += [p.loadURDF(\"../files/quadrotor.urdf\",[0,0,1],p.getQuaternionFromEuler([0,0,0]))]\n",
    "    robotIds += [rob_id]\n",
    "    p.changeVisualShape(rob_id, -1, rgbaColor=color_path)\n",
    "        "
   ]
  },
  {
   "cell_type": "code",
   "execution_count": 11,
   "metadata": {},
   "outputs": [],
   "source": [
    "# for visualizing the reference\n",
    "robotIdRefs = []\n",
    "for t in range(T_short):\n",
    "    #robotIdRefs += [p.loadURDF(\"../files/quadrotor.urdf\",[0,0,1],p.getQuaternionFromEuler([0,0,0]))]\n",
    "    _,_,rob_id = create_primitives(radius = 0.05)\n",
    "    robotIdRefs += [rob_id]\n",
    "\n",
    "    for i in range((p.getNumJoints(robotIdRefs[-1]))+1):\n",
    "        p.changeVisualShape(robotIdRefs[-1], i-1, rgbaColor=color_ref_cond)\n",
    "        "
   ]
  },
  {
   "cell_type": "code",
   "execution_count": 12,
   "metadata": {},
   "outputs": [],
   "source": [
    "# for visualizing the reference\n",
    "robotIdRefMeans = []\n",
    "for t in range(T_short):\n",
    "#    robotIdRefMeans += [p.loadURDF(\"../files/quadrotor.urdf\",[0,0,1],p.getQuaternionFromEuler([0,0,0]))]\n",
    "    _,_,rob_id = create_primitives(radius = 0.05)\n",
    "    robotIdRefMeans += [rob_id]\n",
    "    for i in range((p.getNumJoints(robotIdRefMeans[-1]))+1):\n",
    "        p.changeVisualShape(robotIdRefMeans[-1], i-1, rgbaColor=color_ref_mean)"
   ]
  },
  {
   "cell_type": "markdown",
   "metadata": {},
   "source": [
    "# 1. Plan using iLQR with long horizon"
   ]
  },
  {
   "cell_type": "markdown",
   "metadata": {},
   "source": [
    "#### Setting cost"
   ]
  },
  {
   "cell_type": "code",
   "execution_count": 13,
   "metadata": {},
   "outputs": [],
   "source": [
    "if sys_name == 'quadcopter':\n",
    "    x_waypoint = np.array([-1.,2.,2.,0,0,0,0,0,0,0,0,0])\n",
    "    T_waypoint = 60\n",
    "    x_waypoint2 = np.array([0,4.,2.,0,0,0,0,0,0,0,0,0])\n",
    "    T_waypoint2 = 100\n",
    "    x_ref = np.array([0,7.,2.,0,0,0,0,0,0,0,0,0]) #for quadcopter\n",
    "    p.resetBasePositionAndOrientation(target_id, x_ref[:3], (0,0,0,1))\n",
    "    p.resetBasePositionAndOrientation(waypoint_id, x_waypoint[:3], (0,0,0,1))\n",
    "    p.resetBasePositionAndOrientation(waypoint_id2, x_waypoint2[:3], (0,0,0,1))\n",
    "    Q = np.eye(robot_sys.Dx)*.1\n",
    "    Qf = np.eye(robot_sys.Dx)*1000\n",
    "    R = np.eye(robot_sys.Du)*.1\n",
    "elif sys_name == 'bicopter':\n",
    "    x_ref = np.array([3,3,0,0,0,0]) #for bicopter\n",
    "    Q = np.eye(robot_sys.Dx)*.1\n",
    "    #Q[2:,2:] = 0*Q[2:,2:] \n",
    "    Qf = np.eye(robot_sys.Dx)*100\n",
    "    #Qf[2:,2:] = 0*Qf[2:,2:] \n",
    "    R = np.eye(robot_sys.Du)*1.\n",
    "    \n",
    "costs = []\n",
    "for i in range(T):\n",
    "    if i <= T_waypoint:\n",
    "        cur_ref = x_waypoint.copy()\n",
    "    elif i <= T_waypoint2:\n",
    "         cur_ref = x_waypoint2.copy()        \n",
    "    else:\n",
    "        cur_ref = x_ref.copy()\n",
    "    if i == T_waypoint or i == T_waypoint2: \n",
    "        Q_cur = 0.1*Qf.copy()\n",
    "        Q_cur[3:6,3:6] *= 0\n",
    "        Q_cur[9:,9:] *= 0\n",
    "    else:\n",
    "        Q_cur = Q.copy()\n",
    "    runningStateCost = CostModelQuadratic(robot_sys, Q_cur, x_ref = cur_ref)\n",
    "    runningControlCost = CostModelQuadratic(robot_sys, None, R)\n",
    "    if use_collision:\n",
    "        runningCost = CostModelSum(robot_sys, [runningStateCost, runningControlCost, cost_collision])\n",
    "    else:\n",
    "        runningCost = CostModelSum(robot_sys, [runningStateCost, runningControlCost])        \n",
    "    costs += [runningCost]\n",
    "\n",
    "#### Setup crocoddyl model\n",
    "rmodels = []\n",
    "for i in range(T):\n",
    "    state = crocoddyl.StateVector(robot_sys.Dx)\n",
    "    rmodel = ActionModelRobot(state, robot_sys.Du)\n",
    "    rmodel.init_robot_sys(robot_sys, nr = robot_sys.Dx)\n",
    "    rmodel.set_cost(costs[i])\n",
    "    rmodels += [rmodel]\n",
    "\n",
    "terminalStateCost = CostModelQuadratic(robot_sys,Qf, x_ref = x_ref)\n",
    "terminalControlCost = CostModelQuadratic(robot_sys, None,R)\n",
    "if use_collision:\n",
    "    terminalCost = CostModelSum(robot_sys, [terminalStateCost, terminalControlCost, cost_collision])\n",
    "else:\n",
    "    terminalCost = CostModelSum(robot_sys, [terminalStateCost, terminalControlCost])\n",
    "\n",
    "rmodel_T = ActionModelRobot(state, robot_sys.Du)\n",
    "rmodel_T.init_robot_sys(robot_sys, nr = robot_sys.Dx)\n",
    "rmodel_T.set_cost(terminalCost)"
   ]
  },
  {
   "cell_type": "markdown",
   "metadata": {},
   "source": [
    "#### Setup problem & initial guess"
   ]
  },
  {
   "cell_type": "code",
   "execution_count": 14,
   "metadata": {},
   "outputs": [],
   "source": [
    "#initial state\n",
    "if sys_name == 'quadcopter':\n",
    "    x0 = np.array([ 0.,  0., 0.,  0.,  0.,  0.,  0.,  0.,  0.,  0.,  0.,  0.])\n",
    "    us = np.zeros((T, robot_sys.Du))\n",
    "elif sys_name == 'bicopter':\n",
    "    x0 = np.zeros(6)\n",
    "    u_shift = 9.8*robot_sys.m/2\n",
    "    us = np.ones((T, robot_sys.Du))*u_shift\n",
    "\n",
    "robot_sys.set_init_state(x0)\n",
    "xs = robot_sys.rollout(us)\n",
    "problem = crocoddyl.ShootingProblem(x0, rmodels, rmodel_T)"
   ]
  },
  {
   "cell_type": "markdown",
   "metadata": {},
   "source": [
    "#### Solve"
   ]
  },
  {
   "cell_type": "code",
   "execution_count": 50,
   "metadata": {},
   "outputs": [],
   "source": [
    "ddp = crocoddyl.SolverFDDP(problem)\n",
    "\n",
    "ddp.th_grad = 1e-6\n",
    "ddp.th_stop = 1e-6\n",
    "ddp.setCallbacks([crocoddyl.CallbackVerbose()])\n",
    "\n",
    "ddp.solve(list(xs[:,:,None]), list(us[:,:,None]), maxiter=1000)\n",
    "\n",
    "xs_ref, us_ref = np.array(ddp.xs), np.array(ddp.us)"
   ]
  },
  {
   "cell_type": "markdown",
   "metadata": {},
   "source": [
    "#### Visualize the path by multiple robots"
   ]
  },
  {
   "cell_type": "code",
   "execution_count": 51,
   "metadata": {},
   "outputs": [],
   "source": [
    "if sys_name == 'quadcopter':\n",
    "    for t in range(T):\n",
    "        pos = xs_ref[t, :3]\n",
    "        ori = euler2quat(xs_ref[t,6:9], 'rzyz')\n",
    "        p.resetBasePositionAndOrientation(robotIds[t], pos, ori)"
   ]
  },
  {
   "cell_type": "raw",
   "metadata": {},
   "source": [
    "if sys_name == 'quadcopter':\n",
    "    robot_sys.vis_traj(robotId, xs_ref[:], camPitch = -50)\n",
    "elif sys_name == 'bicopter':\n",
    "    robot_sys.vis_traj(xs_ref, dt = 0.001)"
   ]
  },
  {
   "cell_type": "markdown",
   "metadata": {},
   "source": [
    "#### For report: show the trajectory"
   ]
  },
  {
   "cell_type": "raw",
   "metadata": {},
   "source": [
    "p.resetDebugVisualizerCamera(cameraDistance=5.5, cameraYaw=90, \n",
    "                             cameraPitch= -20, cameraTargetPosition=np.array([0,3,2]))\n",
    "\n",
    "save_screenshot(175, 400, 875, 800, 'temp/quadcopter.png')"
   ]
  },
  {
   "cell_type": "markdown",
   "metadata": {},
   "source": [
    "#### Copy the data from ddp to ilqr solutions"
   ]
  },
  {
   "cell_type": "code",
   "execution_count": 52,
   "metadata": {},
   "outputs": [],
   "source": [
    "ilqr = ILQR_Standard(robot_sys)\n",
    "ilqr = get_ilqr_from_ddp(ddp,ilqr)"
   ]
  },
  {
   "cell_type": "markdown",
   "metadata": {},
   "source": [
    "#### Use Least Square to compute the distribution"
   ]
  },
  {
   "cell_type": "code",
   "execution_count": 53,
   "metadata": {},
   "outputs": [],
   "source": [
    "from scipy.stats import multivariate_normal"
   ]
  },
  {
   "cell_type": "code",
   "execution_count": 54,
   "metadata": {},
   "outputs": [
    {
     "name": "stdout",
     "output_type": "stream",
     "text": [
      "sampling\n"
     ]
    }
   ],
   "source": [
    "n_samples = 200\n",
    "_ = ilqr.compute_du_LS()\n",
    "sample_dxs, sample_dus = ilqr.sample_du(n_samples, allow_singular=False)\n",
    "\n",
    "sample_dxs = np.array(sample_dxs).reshape(n_samples, T+1, -1)"
   ]
  },
  {
   "cell_type": "markdown",
   "metadata": {},
   "source": [
    "#### Plot the cross-section distribution"
   ]
  },
  {
   "cell_type": "raw",
   "metadata": {},
   "source": [
    "dim = (1,2)\n",
    "plt.plot(np.array(ddp.xs)[:,dim[0]], np.array(ddp.xs)[:,dim[1]], 'k')\n",
    "for i in range(n_samples):\n",
    "    plt.plot(np.array(ddp.xs)[:,dim[0]]+sample_dxs[i,:,dim[0]],np.array(ddp.xs)[:,dim[1]]+sample_dxs[i,:,dim[1]], 'r-', alpha=0.05 )\n",
    "    #plt.plot(np.array(ddp.xs)[:,0]+sample_dxs[i,:,0],np.array(ddp.xs)[:,1]+sample_dxs[i,:,1], 'r-', alpha=0.05 )\n",
    "plt.title('Quadcopter', fontsize = 16)\n",
    "plt.xlabel('x', fontsize = 13)\n",
    "plt.ylabel('y', fontsize = 13)\n",
    "plt.savefig('temp/bicopter_dist.png', dpi=500)"
   ]
  },
  {
   "cell_type": "markdown",
   "metadata": {},
   "source": [
    "#### Plot for each dimension"
   ]
  },
  {
   "cell_type": "raw",
   "metadata": {},
   "source": [
    "for i in range(12):\n",
    "    plt.figure()\n",
    "    #plt.plot(ilqr.xs[:,i],'k')\n",
    "    for j in range(n_samples):\n",
    "        plt.plot(sample_dxs[j,:,i],  'r-', alpha=0.05 )\n",
    "#        plt.plot(ilqr.xs[:,i] + sample_dxs[j,:,i],  'r-', alpha=0.05 )\n",
    "    plt.title(str(i))\n",
    "        "
   ]
  },
  {
   "cell_type": "code",
   "execution_count": 55,
   "metadata": {},
   "outputs": [],
   "source": [
    "cost_ori = ddp.problem.calc(list(xs_ref), list(us_ref))"
   ]
  },
  {
   "cell_type": "code",
   "execution_count": 56,
   "metadata": {},
   "outputs": [],
   "source": [
    "xs_sample = xs_ref #+ sample_dxs[np.random.randint(n_samples)]\n",
    "\n",
    "for t in range(T):\n",
    "    pos = xs_sample[t, :3]\n",
    "    ori = euler2quat(xs_ref[t,6:9], 'rzyz')\n",
    "    p.resetBasePositionAndOrientation(robotIds[t], pos, ori)"
   ]
  },
  {
   "cell_type": "markdown",
   "metadata": {},
   "source": [
    "# 2. Tracking the distribution with various strategies"
   ]
  },
  {
   "cell_type": "markdown",
   "metadata": {},
   "source": [
    "## Defining the short time horizon ilqr"
   ]
  },
  {
   "cell_type": "code",
   "execution_count": 57,
   "metadata": {},
   "outputs": [],
   "source": [
    "#### Setting cost\n",
    "costs = []\n",
    "for i in range(T_short+1):\n",
    "    runningStateCostShort = CostModelQuadratic(robot_sys, Qf, x_ref = x_ref.copy())\n",
    "    runningControlCostShort = CostModelQuadratic(robot_sys, None, R)\n",
    "    if use_collision:\n",
    "        runningCostShort = CostModelSum(robot_sys, [runningStateCostShort, runningControlCostShort, cost_collision])\n",
    "    else:\n",
    "        runningCostShort = CostModelSum(robot_sys, [runningStateCostShort, runningControlCostShort])        \n",
    "    costs += [runningCostShort]\n",
    "\n",
    "#### Setup crocoddyl model\n",
    "rmodels = []\n",
    "for i in range(T_short+1):\n",
    "    stateShort = crocoddyl.StateVector(robot_sys.Dx)\n",
    "    rmodelShort = ActionModelRobot(stateShort, robot_sys.Du)\n",
    "    rmodelShort.init_robot_sys(robot_sys, nr = robot_sys.Dx)\n",
    "    rmodelShort.set_cost(costs[i])\n",
    "    rmodels += [rmodelShort]\n",
    "    \n",
    "reg_marg = 1e-2\n",
    "reg_cond = 1e-2"
   ]
  },
  {
   "cell_type": "markdown",
   "metadata": {},
   "source": [
    "#### Setup problem & initial guess"
   ]
  },
  {
   "cell_type": "code",
   "execution_count": 58,
   "metadata": {},
   "outputs": [],
   "source": [
    "x0 = xs_ref[0]\n",
    "robot_sys.set_init_state(x0)\n",
    "xs = robot_sys.rollout(us)\n",
    "problemShort = crocoddyl.ShootingProblem(x0, rmodels[:-1], rmodels[-1])\n",
    "ddpShort = crocoddyl.SolverFDDP(problemShort)"
   ]
  },
  {
   "cell_type": "markdown",
   "metadata": {},
   "source": [
    "#### Define the noises"
   ]
  },
  {
   "cell_type": "code",
   "execution_count": 92,
   "metadata": {},
   "outputs": [
    {
     "name": "stdout",
     "output_type": "stream",
     "text": [
      "[ 0.     0.     0.    -0.518  0.647  1.101  0.     0.     0.    -0.48\n",
      "  0.267  0.221]\n"
     ]
    }
   ],
   "source": [
    "if sys_name == 'quadcopter':\n",
    "    noise_amp = 1.5\n",
    "    noise_v = normalize(np.random.rand(robot_sys.Dx/2)-0.5)*noise_amp\n",
    "    noise = np.concatenate([np.zeros(3), noise_v[:3], np.zeros(3), noise_v[3:]])\n",
    "    #noise = np.zeros(12)\n",
    "    #noise[10] = -.5\n",
    "    start_t = 65\n",
    "    end_t = 67\n",
    "elif sys_name == 'bicopter':\n",
    "    noise[0:3] *= 0.\n",
    "    start_t = 20\n",
    "    end_t = 22\n",
    "     \n",
    "    \n",
    "#set the timing of the noise\n",
    "noises = np.zeros((T, robot_sys.Dx))\n",
    "for t in range(start_t, end_t):\n",
    "    noises[t] = noise\n",
    "print(noise)"
   ]
  },
  {
   "cell_type": "raw",
   "metadata": {},
   "source": [
    "n_iter_short = 5"
   ]
  },
  {
   "cell_type": "raw",
   "metadata": {},
   "source": [
    "start_t = 30\n",
    "end_t = 100\n",
    "noise_amp = 0.2\n",
    "noises_raw = np.random.rand(T, robot_sys.Dx)-0.5\n",
    "noises_raw *= noise_amp\n",
    "noises_raw[:,:6] *= 0\n",
    "\n",
    "noises = np.zeros((T, robot_sys.Dx))\n",
    "for t in range(start_t, end_t):\n",
    "    noises[t] = noises_raw[t]\n"
   ]
  },
  {
   "cell_type": "markdown",
   "metadata": {},
   "source": [
    "### 2.1. MPC Strategy: following the mean"
   ]
  },
  {
   "cell_type": "code",
   "execution_count": 93,
   "metadata": {},
   "outputs": [
    {
     "name": "stdout",
     "output_type": "stream",
     "text": [
      "The cost of tracking the mean is 1387.95521878\n"
     ]
    }
   ],
   "source": [
    "Qs_mean = np.tile(1*Qf, (T+T_short+1,1,1))\n",
    "\n",
    "#initialise x\n",
    "x = x0.copy()\n",
    "\n",
    "#set the output containers\n",
    "xs_mean = [x]\n",
    "us_mean = []\n",
    "x_ref_mean_set = [] #ref at each iter\n",
    "x_output_mean_set = [] #output of ddp at each iter.\n",
    "\n",
    "#set initial guess\n",
    "xs_init = xs_ref[:T_short+1]\n",
    "us_init = us_ref[:T_short]\n",
    "xs_init[0] = x.copy()\n",
    "\n",
    "for t in range(T):\n",
    "    print(t)\n",
    "    \n",
    "    #obtain and set the reference traj\n",
    "    x_ref = subsample(xs_ref[t:t+T_short+1], T_short+1)\n",
    "    set_ref(ddpShort, x_ref)\n",
    "    Qs_ref = Qs_mean[t:t+T_short+1]\n",
    "    set_Qref(ddpShort, Qs_ref)\n",
    "    #modify the ddp initial point \n",
    "    ddpShort.problem.x0 = x\n",
    "    ddpShort.x0 = x\n",
    "    \n",
    "    #solve the ddp\n",
    "    ddpShort.solve(list(xs_init), list(us_init), n_iter_short)\n",
    "    clear_output(wait=True)\n",
    "    \n",
    "    #take the first control and execute (with noise)\n",
    "    u = ddpShort.us[0]\n",
    "    x = robot_sys.step(x, u) + noises[t]\n",
    "\n",
    "    #store the data\n",
    "    xs_mean += [x]\n",
    "    us_mean += [u]\n",
    "    x_ref_mean_set += [x_ref]\n",
    "    x_output_mean_set += [np.array(ddpShort.xs)]\n",
    "    \n",
    "    #initialising the next step with the previous solutions\n",
    "    xs_init = subsample(np.array(ddpShort.xs[1:]), T_short+1)\n",
    "    us_init = subsample(np.array(ddpShort.us), T_short)\n",
    "    xs_init[0] = x.copy()\n",
    "\n",
    "xs_mean = np.array(xs_mean)\n",
    "us_mean = np.array(us_mean)\n",
    "cost_mean = ddp.problem.calc(list(xs_mean), list(us_mean))\n",
    "print('The cost of tracking the mean is {}'.format(cost_mean))"
   ]
  },
  {
   "cell_type": "markdown",
   "metadata": {},
   "source": [
    "### 2.2. MPC Strategy: ILQR Feedback"
   ]
  },
  {
   "cell_type": "code",
   "execution_count": 94,
   "metadata": {},
   "outputs": [
    {
     "name": "stdout",
     "output_type": "stream",
     "text": [
      "The cost of ilqr feedback control is is 417.943228006\n"
     ]
    }
   ],
   "source": [
    "start_t = 30\n",
    "end_t = 100\n",
    "noise_amp = 0.4\n",
    "noises_raw = np.random.rand(T, robot_sys.Dx)-0.5\n",
    "noises_raw *= noise_amp\n",
    "noises_raw[:,:3] *= 0\n",
    "noises_raw[:,6:9] *= 0\n",
    "\n",
    "noises = np.zeros((T, robot_sys.Dx))\n",
    "for t in range(start_t, end_t):\n",
    "    noises[t] = noises_raw[t]\n",
    "\n",
    "\n",
    "#initialise x\n",
    "x = x0.copy()\n",
    "\n",
    "#setup the output container\n",
    "xs_res_feed = [x]\n",
    "us_res_feed = []\n",
    "\n",
    "for t in range(T):\n",
    "    print(t)\n",
    "    u = ddp.us[t] - ddp.K[t].dot(x - ddp.xs[t])\n",
    "    x = robot_sys.step(x, u) + noises[t]\n",
    "    xs_res_feed += [x]\n",
    "    us_res_feed += [u]\n",
    "    \n",
    "xs_res_feed = np.array(xs_res_feed)\n",
    "us_res_feed = np.array(us_res_feed)\n",
    "cost_feed = ddp.problem.calc(list(xs_res_feed), list(us_res_feed))\n",
    "clear_output()\n",
    "print('The cost of ilqr feedback control is is {}'.format(cost_feed))"
   ]
  },
  {
   "cell_type": "raw",
   "metadata": {},
   "source": [
    "robot_sys.vis_traj(robotId, xs_res_feed)"
   ]
  },
  {
   "cell_type": "raw",
   "metadata": {},
   "source": [
    "robot_sys.vis_traj(robotId, xs_mean)"
   ]
  },
  {
   "cell_type": "markdown",
   "metadata": {},
   "source": [
    "### 2.3. MPC Strategy: Tracking marginal distribution"
   ]
  },
  {
   "cell_type": "markdown",
   "metadata": {},
   "source": [
    "#### Compute marginal distribution"
   ]
  },
  {
   "cell_type": "code",
   "execution_count": 95,
   "metadata": {},
   "outputs": [],
   "source": [
    "_, Qs = extract_ref(xs_ref[1:], ilqr.Sigma_x[robot_sys.Dx:, robot_sys.Dx:], robot_sys.Dx, T+T_short, xs_ref[0], reg_marg)"
   ]
  },
  {
   "cell_type": "markdown",
   "metadata": {},
   "source": [
    "#### Tracking"
   ]
  },
  {
   "cell_type": "code",
   "execution_count": 96,
   "metadata": {},
   "outputs": [
    {
     "name": "stdout",
     "output_type": "stream",
     "text": [
      "The cost of tracking the marginal distribution is 430.428934877\n"
     ]
    }
   ],
   "source": [
    "#setup the initial state\n",
    "x = x0.copy()\n",
    "\n",
    "#setup the output containers\n",
    "xs_res_dist = [x]\n",
    "us_res_dist = []\n",
    "x_ref_dist_set = []\n",
    "x_output_dist_set = []\n",
    "\n",
    "#setup the initial guess\n",
    "xs_init = xs_ref[:T_short+1]\n",
    "us_init = us_ref[:T_short]\n",
    "xs_init[0] = x.copy()\n",
    "\n",
    "for t in range(T):\n",
    "    print(t)\n",
    "    \n",
    "    #extract the reference trajectory dist.\n",
    "    x_ref = subsample(xs_ref[t:t+T_short+1], T_short+1)\n",
    "    Qs_ref = Qs[t:t+T_short+1]\n",
    "    set_ref(ddpShort, x_ref)\n",
    "    set_Qref(ddpShort, 1*Qs_ref)\n",
    "    \n",
    "    #modify the initial state of ddp\n",
    "    ddpShort.problem.x0 = x\n",
    "    ddpShort.x0 = x\n",
    "    \n",
    "    #solve\n",
    "    ddpShort.solve(list(xs_init), list(us_init), n_iter_short)\n",
    "    clear_output(wait=True)\n",
    "    \n",
    "    #take the first control and execute\n",
    "    u = ddpShort.us[0]\n",
    "    x = robot_sys.step(x, u) + noises[t]\n",
    "\n",
    "    #store the output\n",
    "    xs_res_dist += [x]\n",
    "    us_res_dist += [u]\n",
    "    x_ref_dist_set += [x_ref]\n",
    "    x_output_dist_set += [np.array(ddpShort.xs)]\n",
    "    \n",
    "    #set the initial guess from the previous solution\n",
    "    xs_init = subsample(np.array(ddpShort.xs[1:]), T_short+1)\n",
    "    us_init = subsample(np.array(ddpShort.us), T_short)\n",
    "    xs_init[0] = x.copy()\n",
    "\n",
    "xs_res_dist = np.array(xs_res_dist)\n",
    "us_res_dist = np.array(us_res_dist)\n",
    "cost_dist = ddp.problem.calc(list(xs_res_dist), list(us_res_dist))\n",
    "clear_output()\n",
    "print('The cost of tracking the marginal distribution is {}'.format(cost_dist))"
   ]
  },
  {
   "cell_type": "markdown",
   "metadata": {},
   "source": [
    "### 2.4. MPC Strategy:  tracking conditional distribution"
   ]
  },
  {
   "cell_type": "markdown",
   "metadata": {},
   "source": [
    "### Setup the trajectory distribution"
   ]
  },
  {
   "cell_type": "code",
   "execution_count": 97,
   "metadata": {},
   "outputs": [],
   "source": [
    "#the full trajectory distribution\n",
    "x_dist = Gaussian()\n",
    "x_dist.D = robot_sys.Dx*(T+1+T_short)\n",
    "x_dist.mu = ilqr.xs.flatten()\n",
    "x_dist.sigma = np.zeros((ilqr.Sigma_x.shape[0]+T_short*robot_sys.Dx, ilqr.Sigma_x.shape[1]+T_short*robot_sys.Dx))\n",
    "x_dist.sigma[:ilqr.Sigma_x.shape[0],:ilqr.Sigma_x.shape[0]] = ilqr.Sigma_x + 1e-6*np.eye(ilqr.Sigma_x.shape[0])\n",
    "for t in range(T+1, T+1+T_short):\n",
    "    x_dist.sigma[t*robot_sys.Dx:(t+1)*robot_sys.Dx, t*robot_sys.Dx:(t+1)*robot_sys.Dx] = x_dist.sigma[T*robot_sys.Dx:(T+1)*robot_sys.Dx, T*robot_sys.Dx:(T+1)*robot_sys.Dx]\n",
    "    x_dist.mu = np.concatenate([x_dist.mu, xs_ref[-1]])\n",
    "    #the conditional distribution along the time horizon T_short\n",
    "x_dist_short = Gaussian()\n",
    "x_dist_short.D = robot_sys.Dx*(T_short+1)"
   ]
  },
  {
   "cell_type": "markdown",
   "metadata": {},
   "source": [
    "#### Tracking"
   ]
  },
  {
   "cell_type": "code",
   "execution_count": 98,
   "metadata": {},
   "outputs": [
    {
     "name": "stdout",
     "output_type": "stream",
     "text": [
      "The cost of tracking the conditional distribution is 229.751794431\n"
     ]
    }
   ],
   "source": [
    "#set initial state\n",
    "x = x0.copy()\n",
    "\n",
    "#set the output container\n",
    "xs_res_cond = [x]\n",
    "us_res_cond = []\n",
    "x_ref_cond_set = []\n",
    "x_output_cond_set = []\n",
    "\n",
    "#set the initial guess\n",
    "xs_init = xs_ref[:T_short+1]\n",
    "us_init = us_ref[:T_short]\n",
    "xs_init[0] = x.copy()\n",
    "\n",
    "for t in range(T):\n",
    "    print(t)\n",
    "    \n",
    "    mu,sigma = x_dist.get_marginal(slice(t*robot_sys.Dx, (t+1+T_short)*robot_sys.Dx))\n",
    "    x_dist_short.mu = mu\n",
    "    x_dist_short.sigma = sigma\n",
    "\n",
    "    #get conditional distribution\n",
    "    mu,sigma = x_dist_short.condition(x, slice(0,robot_sys.Dx), slice(robot_sys.Dx, x_dist.mu.shape[0]))\n",
    "    x_dist_short.mu = mu\n",
    "    x_dist_short.sigma = sigma\n",
    "\n",
    "    #obtain references\n",
    "    x_ref, Qs_ref = extract_ref(x_dist_short.mu, x_dist_short.sigma, robot_sys.Dx, T_short, x, reg = 1e-2)\n",
    "\n",
    "    #set the reference\n",
    "    set_ref(ddpShort, x_ref)\n",
    "    set_Qref(ddpShort, 1*Qs_ref)\n",
    "        \n",
    "    #modify ddp initial state\n",
    "    ddpShort.problem.x0 = x\n",
    "    ddpShort.x0 = x\n",
    "    \n",
    "    #solve\n",
    "    ddpShort.solve(list(xs_init), list(us_init), n_iter_short)\n",
    "    clear_output(wait=True)\n",
    "    \n",
    "    #take the first control and execute\n",
    "    u = ddpShort.us[0]\n",
    "    x = robot_sys.step(x, u) + noises[t]\n",
    "    \n",
    "    #store the output into the containers\n",
    "    xs_res_cond += [x]\n",
    "    us_res_cond += [u]\n",
    "    x_ref_cond_set += [x_ref]\n",
    "    x_output_cond_set += [np.array(ddpShort.xs)]\n",
    "\n",
    "    #set the initial guess\n",
    "    xs_init = subsample(np.array(ddpShort.xs[1:]), T_short+1)\n",
    "    us_init = subsample(np.array(ddpShort.us), T_short)\n",
    "    xs_init[0] = x.copy()\n",
    "\n",
    "\n",
    "xs_res_cond = np.array(xs_res_cond)\n",
    "us_res_cond = np.array(us_res_cond)\n",
    "cost_cond = ddp.problem.calc(list(xs_res_cond), list(us_res_cond))\n",
    "clear_output()\n",
    "print('The cost of tracking the conditional distribution is {}'.format(cost_cond))"
   ]
  },
  {
   "cell_type": "raw",
   "metadata": {},
   "source": [
    "robot_sys.vis_traj(robotId, xs_res_feed)"
   ]
  },
  {
   "cell_type": "raw",
   "metadata": {},
   "source": [
    "robot_sys.vis_traj(robotId, xs_res_dist)"
   ]
  },
  {
   "cell_type": "raw",
   "metadata": {},
   "source": [
    "robot_sys.vis_traj(robotId, xs_res_cond)"
   ]
  },
  {
   "cell_type": "raw",
   "metadata": {},
   "source": [
    "%timeit -n 100 -r 10 ddpShort.solve(list(xs_init), list(us_init),1)"
   ]
  },
  {
   "cell_type": "markdown",
   "metadata": {},
   "source": [
    "## Comparison"
   ]
  },
  {
   "cell_type": "code",
   "execution_count": 99,
   "metadata": {},
   "outputs": [
    {
     "name": "stdout",
     "output_type": "stream",
     "text": [
      "Feedback: 417.943228006, Mean: 1387.95521878, Dist: 430.428934877, Cond: 229.751794431\n"
     ]
    }
   ],
   "source": [
    "print('Feedback: {}, Mean: {}, Dist: {}, Cond: {}'.format(cost_feed, cost_mean, cost_dist, cost_cond))"
   ]
  },
  {
   "cell_type": "code",
   "execution_count": 100,
   "metadata": {},
   "outputs": [
    {
     "name": "stdout",
     "output_type": "stream",
     "text": [
      "cost_state, cost_control, cost_col,  cost_goal\n",
      "('feed', 107.55560244834653, 142.79473567180068, 164.28714659354506, 3.3996552812797423)\n",
      "('mean', 129.20498827088988, 196.10798670767136, 637.6286791770192, 425.05818988657245)\n",
      "('dist', 121.42553350585894, 190.38186538812778, 30.33216805321848, 88.38331421503689)\n",
      "('cond', 104.59332792105103, 109.86883808501663, 9.44596495474129, 5.884171768517988)\n"
     ]
    }
   ],
   "source": [
    "print('cost_state, cost_control, cost_col,  cost_goal')\n",
    "cost_state, cost_control, cost_col, cost_goal = calc_detail_cost(xs_res_feed, us_res_feed, ddp)\n",
    "print('feed', cost_state, cost_control, np.sum(cost_col), cost_goal)\n",
    "cost_state, cost_control, cost_col, cost_goal = calc_detail_cost(xs_mean, us_mean, ddp)\n",
    "print('mean', cost_state, cost_control, np.sum(cost_col), cost_goal)\n",
    "cost_state, cost_control, cost_col, cost_goal = calc_detail_cost(xs_res_dist, us_res_dist, ddp)\n",
    "print('dist', cost_state, cost_control, np.sum(cost_col), cost_goal)\n",
    "cost_state, cost_control, cost_col, cost_goal = calc_detail_cost(xs_res_cond, us_res_cond, ddp)\n",
    "print('cond', cost_state, cost_control, np.sum(cost_col), cost_goal)\n"
   ]
  },
  {
   "cell_type": "code",
   "execution_count": 37,
   "metadata": {},
   "outputs": [],
   "source": [
    "xs_ref_now = x_ref_cond_set[end_t]\n",
    "for t in range(T_short):\n",
    "    pos = xs_ref_now[t, :3]\n",
    "    ori = euler2quat(xs_ref[t,6:9], 'rzyz')\n",
    "    p.resetBasePositionAndOrientation(robotIdRefs[t], pos, ori)\n",
    "\n",
    "xs_ref_now = x_ref_mean_set[end_t]\n",
    "for t in range(T_short):\n",
    "    pos = xs_ref_now[t, :3]\n",
    "    ori = euler2quat(xs_ref[t,6:9], 'rzyz')\n",
    "    p.resetBasePositionAndOrientation(robotIdRefMeans[t], pos, ori)"
   ]
  },
  {
   "cell_type": "raw",
   "metadata": {},
   "source": [
    "robot_sys.vis_traj(robotId, xs_ref, camDist = 4, camPitch = -50, camYaw = 270)"
   ]
  },
  {
   "cell_type": "code",
   "execution_count": 201,
   "metadata": {},
   "outputs": [],
   "source": [
    "robot_sys.vis_traj(robotId, xs_res_feed, camDist = 4, camPitch = -50, camYaw = 270)"
   ]
  },
  {
   "cell_type": "code",
   "execution_count": 97,
   "metadata": {},
   "outputs": [],
   "source": [
    "robot_sys.vis_traj(robotId, xs_mean, camDist = 4, camPitch = -50, camYaw = 270)"
   ]
  },
  {
   "cell_type": "code",
   "execution_count": 161,
   "metadata": {},
   "outputs": [],
   "source": [
    "robot_sys.vis_traj(robotId, xs_res_dist, camDist = 4, camPitch = -50, camYaw = 270)"
   ]
  },
  {
   "cell_type": "code",
   "execution_count": 180,
   "metadata": {},
   "outputs": [],
   "source": [
    "robot_sys.vis_traj(robotId, xs_res_cond, camDist = 4, camPitch = -50, camYaw = 270, changeCamera = True)"
   ]
  },
  {
   "cell_type": "markdown",
   "metadata": {},
   "source": [
    "#### The reference trajectory"
   ]
  },
  {
   "cell_type": "code",
   "execution_count": 95,
   "metadata": {},
   "outputs": [
    {
     "name": "stdout",
     "output_type": "stream",
     "text": [
      "3 loops, best of 3: 38.9 ms per loop\n"
     ]
    }
   ],
   "source": [
    "%timeit -n 3 -r 3 ddpShort.solve(list(xs_init), list(us_init), 1)"
   ]
  },
  {
   "cell_type": "code",
   "execution_count": 96,
   "metadata": {},
   "outputs": [
    {
     "name": "stdout",
     "output_type": "stream",
     "text": [
      "3 loops, best of 3: 179 ms per loop\n"
     ]
    }
   ],
   "source": [
    "%timeit -n 3 -r 3 ddp.solve(list(xs_ref), list(us_ref), 1)"
   ]
  },
  {
   "cell_type": "raw",
   "metadata": {},
   "source": [
    "dim = (3,4)\n",
    "for t in range(len(x_ref_cond_set)):#(start_t, end_t):#\n",
    "    fig, ax = plt.subplots()\n",
    "    x_ref = x_ref_cond_set[t]\n",
    "    #plt.plot(xs_res_cond[:,dim[0]], xs_res_cond[:,dim[1]], 'r', label='Actual traj.')\n",
    "    plt.plot(xs_ref[:,dim[0]], xs_ref[:,dim[1]], '-k', label='Mean traj')\n",
    "    for i in range(n_samples):\n",
    "        plt.plot(xs_ref[:,dim[0]]+sample_dxs[i,:,dim[0]],xs_ref[:,dim[1]]+sample_dxs[i,:,dim[1]], 'r--', alpha=0.05 )\n",
    "    plt.plot(x_ref[:,dim[0]], x_ref[:,dim[1]], '--b', label='Ref. traj (marg)', linewidth=3) \n",
    "    #plt.plot(x_output_cond_set[i][:,dim[0]], x_output_cond_set[i][:,dim[1]], 'k', label='DDP output') \n",
    "    plt.plot(xs_res_cond[t, dim[0]], xs_res_cond[t, dim[1]], 'ok', label='Current state', markersize=8)\n",
    "    x_ref = x_ref_dist_set[t]\n",
    "    plt.plot(x_ref[:,dim[0]], x_ref[:,dim[1]], '--g', label='Ref. traj (cond)', linewidth=3) \n",
    "    circle = plt.Circle((2,2), radius=0.5)\n",
    "    #ax.add_artist(circle)\n",
    "    plt.legend()\n",
    "    #plt.axis('equal')\n",
    "    plt.xlabel('x', fontsize=13)\n",
    "    plt.ylabel('z', fontsize=13)\n",
    "    #plt.savefig('temp/cond_dist.png', dpi=500)\n",
    "    plt.show()\n",
    "    clear_output(wait=True)"
   ]
  },
  {
   "cell_type": "raw",
   "metadata": {},
   "source": [
    "dim = (1,2)\n",
    "for i in range(start_t, end_t):#len(x_ref_cond_set)):\n",
    "    x_ref = x_ref_dist_set[i]\n",
    "    #plt.plot(xs_res_cond[:,dim[0]], xs_res_cond[:,dim[1]], 'r', label='Actual traj.')\n",
    "    plt.plot(xs_ref[:,dim[0]], xs_ref[:,dim[1]], '--k', label='Mean traj')\n",
    "    for i in range(n_samples):\n",
    "        plt.plot(xs_ref[:,dim[0]]+sample_dxs[i,:,dim[0]],xs_ref[:,dim[1]]+sample_dxs[i,:,dim[1]], 'r--', alpha=0.05 )\n",
    "    plt.plot(x_ref[:,dim[0]], x_ref[:,dim[1]], 'b', label='Ref. traj') \n",
    "    #plt.plot(x_output_cond_set[i][:,dim[0]], x_output_cond_set[i][:,dim[1]], 'k', label='DDP output') \n",
    "    plt.legend()\n",
    "    plt.show()\n",
    "    clear_output(wait=True)"
   ]
  },
  {
   "cell_type": "raw",
   "metadata": {},
   "source": [
    "%timeit -n 3 -r 3 ddp.solve(list(xs_res_cond), list(us_res_cond), 5)"
   ]
  },
  {
   "cell_type": "markdown",
   "metadata": {},
   "source": [
    "***"
   ]
  },
  {
   "cell_type": "markdown",
   "metadata": {},
   "source": [
    "# Batch comparison"
   ]
  },
  {
   "cell_type": "code",
   "execution_count": 105,
   "metadata": {},
   "outputs": [],
   "source": [
    "import time\n",
    "tic = time.time()\n",
    "n_test = 10\n",
    "\n",
    "to_build_from_zero = True\n",
    "noise_sizes = ['small', 'medium', 'large']\n",
    "method_names = ['feed', 'mean', 'marg', 'cond']\n",
    "field_names = ['xs', 'us', 'x_ref_set', 'x_output_set', 'cost', 'noise', \n",
    "               'cost_state', 'cost_col', 'cost_goal', 'cost_control']\n",
    "if to_build_from_zero:\n",
    "    data = {'small':dict(), 'medium':dict(), 'large':dict()}\n",
    "    for noise_size in noise_sizes:\n",
    "        for method_name in method_names:\n",
    "            data[noise_size][method_name] = dict()\n",
    "            for field_name in field_names:\n",
    "                data[noise_size][method_name][field_name] = []\n",
    "else:\n",
    "    data = np.load('data/ilqr_'+sys_name+'4.npy', allow_pickle = True)[()]\n",
    "    for noise_size in noise_sizes:\n",
    "        for method_name in method_names:\n",
    "            for field_name in field_names:\n",
    "                data[noise_size][method_name][field_name] = list(data[noise_size][method_name][field_name])"
   ]
  },
  {
   "cell_type": "code",
   "execution_count": 106,
   "metadata": {},
   "outputs": [],
   "source": [
    "start_k = 0\n",
    "n_test = 10"
   ]
  },
  {
   "cell_type": "code",
   "execution_count": 107,
   "metadata": {},
   "outputs": [
    {
     "name": "stdout",
     "output_type": "stream",
     "text": [
      "The cost of tracking the conditional distribution is 238.074125925\n",
      "Feedback: 264.030199818, Mean: 1181.31632064, Dist: 278.565305614, Cond: 238.074125925\n"
     ]
    }
   ],
   "source": [
    "for noise_size in noise_sizes[2:]:       \n",
    "    for k in range(start_k, n_test):\n",
    "        #### Define the noises\n",
    "#         if sys_name == 'quadcopter':           \n",
    "#             if noise_size == 'large':\n",
    "#                 noise_amp = 1.2 #3.\n",
    "#             elif noise_size == 'medium':\n",
    "#                 noise_amp = 0.7#1.5\n",
    "#             elif noise_size == 'small':\n",
    "#                 noise_amp = 0.2#0.5\n",
    "#             noise_v = normalize(np.random.rand(robot_sys.Dx/2)-0.5)*noise_amp\n",
    "#             noise = np.concatenate([np.zeros(3), noise_v[:3], np.zeros(3), noise_v[3:]])\n",
    "#             #noise = np.zeros(12)\n",
    "#             #noise[10] = -.5\n",
    "#             start_t = 65\n",
    "#             end_t = 67\n",
    "#         elif sys_name == 'bicopter':\n",
    "#             if noise_size == 'large':\n",
    "#                 noise_amp = 10.\n",
    "#             elif noise_size == 'medium':\n",
    "#                 noise_amp = 5.\n",
    "#             elif noise_size == 'small':\n",
    "#                 noise_amp = 1\n",
    "#             noise = np.random.rand(robot_sys.Dx)*noise_amp\n",
    "#             noise[0:3] *= 0.\n",
    "#             start_t = 20\n",
    "#             end_t = 22\n",
    "            \n",
    "        \n",
    "\n",
    "        #set the timing of the noise\n",
    "        noises = np.zeros((T, robot_sys.Dx))\n",
    "        for t in range(start_t, end_t):\n",
    "            noises[t] = noise\n",
    "\n",
    "            \n",
    "        #varying noise\n",
    "        if sys_name == 'quadcopter':           \n",
    "            if noise_size == 'large':\n",
    "                noise_amp = 0.4 #3.\n",
    "            elif noise_size == 'medium':\n",
    "                noise_amp = 0.3#1.5\n",
    "            elif noise_size == 'small':\n",
    "                noise_amp = 0.07#0.5\n",
    "            start_t = 30\n",
    "            end_t = 100\n",
    "            noises_raw = np.random.rand(T, robot_sys.Dx)-0.5\n",
    "            noises_raw *= noise_amp\n",
    "            #remove the position disturbance component\n",
    "            noises_raw[:,:3] *= 0\n",
    "            noises_raw[:,6:9] *= 0\n",
    "            noises = np.zeros((T, robot_sys.Dx))\n",
    "            for t in range(start_t, end_t):\n",
    "                noises[t] = noises_raw[t]\n",
    "            \n",
    "            \n",
    "        ### 2.1. MPC Strategy: following the mean\n",
    "        Qs_mean = np.tile(1*Qf, (T+T_short+1,1,1))\n",
    "\n",
    "        #initialise x\n",
    "        x = x0.copy()\n",
    "\n",
    "        #set the output containers\n",
    "        xs_mean = [x]\n",
    "        us_mean = []\n",
    "        x_ref_mean_set = [] #ref at each iter\n",
    "        x_output_mean_set = [] #output of ddp at each iter.\n",
    "\n",
    "        #set initial guess\n",
    "        xs_init = xs_ref[:T_short+1]\n",
    "        us_init = us_ref[:T_short]\n",
    "        xs_init[0] = x.copy()\n",
    "\n",
    "        for t in range(T):\n",
    "            print(t)\n",
    "\n",
    "            #obtain and set the reference traj\n",
    "            x_ref = subsample(xs_ref[t:t+T_short+1], T_short+1)\n",
    "            set_ref(ddpShort, x_ref)\n",
    "            Qs_ref = Qs_mean[t:t+T_short+1]\n",
    "            set_Qref(ddpShort, Qs_ref)\n",
    "            #modify the ddp initial point \n",
    "            ddpShort.problem.x0 = x\n",
    "            ddpShort.x0 = x\n",
    "\n",
    "            #solve the ddp\n",
    "            ddpShort.solve(list(xs_init), list(us_init), n_iter_short)\n",
    "            clear_output(wait=True)\n",
    "\n",
    "            #take the first control and execute (with noise)\n",
    "            u = ddpShort.us[0]\n",
    "            x = robot_sys.step(x, u) + noises[t]\n",
    "\n",
    "            #store the data\n",
    "            xs_mean += [x]\n",
    "            us_mean += [u]\n",
    "            x_ref_mean_set += [x_ref]\n",
    "            x_output_mean_set += [np.array(ddpShort.xs)]\n",
    "\n",
    "            #initialising the next step with the previous solutions\n",
    "            xs_init = subsample(np.array(ddpShort.xs[1:]), T_short+1)\n",
    "            us_init = subsample(np.array(ddpShort.us), T_short)\n",
    "            xs_init[0] = x.copy()\n",
    "\n",
    "        xs_mean = np.array(xs_mean)\n",
    "        us_mean = np.array(us_mean)\n",
    "        cost_mean = ddp.problem.calc(list(xs_mean), list(us_mean))\n",
    "        print('The cost of tracking the mean is {}'.format(cost_mean))\n",
    "\n",
    "\n",
    "        ### 2.2. MPC Strategy: ILQR Feedback\n",
    "\n",
    "        #initialise x\n",
    "        x = x0.copy()\n",
    "\n",
    "        #setup the output container\n",
    "        xs_res_feed = [x]\n",
    "        us_res_feed = []\n",
    "\n",
    "        for t in range(T):\n",
    "            print(t)\n",
    "            u = ddp.us[t] - ddp.K[t].dot(x - ddp.xs[t])\n",
    "            x = robot_sys.step(x, u) + noises[t]\n",
    "            xs_res_feed += [x]\n",
    "            us_res_feed += [u]\n",
    "\n",
    "        xs_res_feed = np.array(xs_res_feed)\n",
    "        us_res_feed = np.array(us_res_feed)\n",
    "        cost_feed = ddp.problem.calc(list(xs_res_feed), list(us_res_feed))\n",
    "        clear_output(wait=True)\n",
    "        print('The cost of ilqr feedback control is is {}'.format(cost_feed))\n",
    "\n",
    "\n",
    "        ### 2.3. MPC Strategy: Tracking marginal distribution\n",
    "\n",
    "        #### Compute marginal distribution\n",
    "        _, Qs = extract_ref(xs_ref[1:], ilqr.Sigma_x[robot_sys.Dx:, robot_sys.Dx:], \n",
    "                            robot_sys.Dx, T+T_short, xs_ref[0], reg_marg)\n",
    "\n",
    "        #### Tracking\n",
    "\n",
    "        #setup the initial state\n",
    "        x = x0.copy()\n",
    "\n",
    "        #setup the output containers\n",
    "        xs_res_dist = [x]\n",
    "        us_res_dist = []\n",
    "        x_ref_dist_set = []\n",
    "        x_output_dist_set = []\n",
    "\n",
    "        #setup the initial guess\n",
    "        xs_init = xs_ref[:T_short+1]\n",
    "        us_init = us_ref[:T_short]\n",
    "        xs_init[0] = x.copy()\n",
    "\n",
    "        for t in range(T):\n",
    "            print(t)\n",
    "\n",
    "            #extract the reference trajectory dist.\n",
    "            x_ref = subsample(xs_ref[t:t+T_short+1], T_short+1)\n",
    "            Qs_ref = Qs[t:t+T_short+1]\n",
    "            set_ref(ddpShort, x_ref)\n",
    "            set_Qref(ddpShort, 1*Qs_ref)\n",
    "\n",
    "            #modify the initial state of ddp\n",
    "            ddpShort.problem.x0 = x\n",
    "            ddpShort.x0 = x\n",
    "\n",
    "            #solve\n",
    "            ddpShort.solve(list(xs_init), list(us_init), n_iter_short)\n",
    "            clear_output(wait=True)\n",
    "\n",
    "            #take the first control and execute\n",
    "            u = ddpShort.us[0]\n",
    "            x = robot_sys.step(x, u) + noises[t]\n",
    "\n",
    "            #store the output\n",
    "            xs_res_dist += [x]\n",
    "            us_res_dist += [u]\n",
    "            x_ref_dist_set += [x_ref]\n",
    "            x_output_dist_set += [np.array(ddpShort.xs)]\n",
    "\n",
    "            #set the initial guess from the previous solution\n",
    "            xs_init = subsample(np.array(ddpShort.xs[1:]), T_short+1)\n",
    "            us_init = subsample(np.array(ddpShort.us), T_short)\n",
    "            xs_init[0] = x.copy()\n",
    "\n",
    "        xs_res_dist = np.array(xs_res_dist)\n",
    "        us_res_dist = np.array(us_res_dist)\n",
    "        cost_dist = ddp.problem.calc(list(xs_res_dist), list(us_res_dist))\n",
    "        clear_output()\n",
    "        print('The cost of tracking the marginal distribution is {}'.format(cost_dist))\n",
    "\n",
    "\n",
    "        ### 2.4. MPC Strategy:  tracking conditional distribution\n",
    "\n",
    "        ### Setup the trajectory distribution\n",
    "\n",
    "        #the full trajectory distribution\n",
    "        x_dist = Gaussian()\n",
    "        x_dist.D = robot_sys.Dx*(T+1+T_short)\n",
    "        x_dist.mu = ilqr.xs.flatten()\n",
    "        x_dist.sigma = np.zeros((ilqr.Sigma_x.shape[0]+T_short*robot_sys.Dx, ilqr.Sigma_x.shape[1]+T_short*robot_sys.Dx))\n",
    "        x_dist.sigma[:ilqr.Sigma_x.shape[0],:ilqr.Sigma_x.shape[0]] = ilqr.Sigma_x + 1e-6*np.eye(ilqr.Sigma_x.shape[0])\n",
    "        for t in range(T+1, T+1+T_short):\n",
    "            x_dist.sigma[t*robot_sys.Dx:(t+1)*robot_sys.Dx, t*robot_sys.Dx:(t+1)*robot_sys.Dx] = x_dist.sigma[T*robot_sys.Dx:(T+1)*robot_sys.Dx, T*robot_sys.Dx:(T+1)*robot_sys.Dx]\n",
    "            x_dist.mu = np.concatenate([x_dist.mu, xs_ref[-1]])\n",
    "            #the conditional distribution along the time horizon T_short\n",
    "        x_dist_short = Gaussian()\n",
    "        x_dist_short.D = robot_sys.Dx*(T_short+1)\n",
    "\n",
    "        #### Tracking\n",
    "\n",
    "        #set initial state\n",
    "        x = x0.copy()\n",
    "\n",
    "        #set the output container\n",
    "        xs_res_cond = [x]\n",
    "        us_res_cond = []\n",
    "        x_ref_cond_set = []\n",
    "        x_output_cond_set = []\n",
    "\n",
    "        #set the initial guess\n",
    "        xs_init = xs_ref[:T_short+1]\n",
    "        us_init = us_ref[:T_short]\n",
    "        xs_init[0] = x.copy()\n",
    "\n",
    "        for t in range(T):\n",
    "            print(t)\n",
    "\n",
    "            mu,sigma = x_dist.get_marginal(slice(t*robot_sys.Dx, (t+1+T_short)*robot_sys.Dx))\n",
    "            x_dist_short.mu = mu\n",
    "            x_dist_short.sigma = sigma\n",
    "\n",
    "            #get conditional distribution\n",
    "            mu,sigma = x_dist_short.condition(x, slice(0,robot_sys.Dx), slice(robot_sys.Dx, x_dist.mu.shape[0]))\n",
    "            x_dist_short.mu = mu\n",
    "            x_dist_short.sigma = sigma\n",
    "\n",
    "            #obtain references\n",
    "            x_ref, Qs_ref = extract_ref(x_dist_short.mu, x_dist_short.sigma, robot_sys.Dx, T_short, x, reg = 1e-2)\n",
    "\n",
    "            #set the reference\n",
    "            set_ref(ddpShort, x_ref)\n",
    "            set_Qref(ddpShort, 1*Qs_ref)\n",
    "\n",
    "            #modify ddp initial state\n",
    "            ddpShort.problem.x0 = x\n",
    "            ddpShort.x0 = x\n",
    "\n",
    "            #solve\n",
    "            ddpShort.solve(list(xs_init), list(us_init), n_iter_short)\n",
    "            clear_output(wait=True)\n",
    "\n",
    "            #take the first control and execute\n",
    "            u = ddpShort.us[0]\n",
    "            x = robot_sys.step(x, u) + noises[t]\n",
    "\n",
    "            #store the output into the containers\n",
    "            xs_res_cond += [x]\n",
    "            us_res_cond += [u]\n",
    "            x_ref_cond_set += [x_ref]\n",
    "            x_output_cond_set += [np.array(ddpShort.xs)]\n",
    "\n",
    "            #set the initial guess\n",
    "            xs_init = subsample(np.array(ddpShort.xs[1:]), T_short+1)\n",
    "            us_init = subsample(np.array(ddpShort.us), T_short)\n",
    "            xs_init[0] = x.copy()\n",
    "\n",
    "\n",
    "        xs_res_cond = np.array(xs_res_cond)\n",
    "        us_res_cond = np.array(us_res_cond)\n",
    "        cost_cond = ddp.problem.calc(list(xs_res_cond), list(us_res_cond))\n",
    "        clear_output()\n",
    "        print('The cost of tracking the conditional distribution is {}'.format(cost_cond))\n",
    "\n",
    "\n",
    "        #### Comparison\n",
    "        print('Feedback: {}, Mean: {}, Dist: {}, Cond: {}'.format(cost_feed, cost_mean, cost_dist, cost_cond))\n",
    "\n",
    "\n",
    "        ####store the data\n",
    "        #data mean\n",
    "        cost_state, cost_control, cost_col, cost_goal  = calc_detail_cost(xs_mean, us_mean, ddp)\n",
    "        data[noise_size]['mean']['xs'] += [xs_mean]\n",
    "        data[noise_size]['mean']['us'] += [us_mean]\n",
    "        data[noise_size]['mean']['x_ref_set'] += [x_ref_mean_set]\n",
    "        data[noise_size]['mean']['x_output_set'] += [x_output_mean_set]\n",
    "        data[noise_size]['mean']['cost'] += [cost_mean]\n",
    "        data[noise_size]['mean']['noise'] += [noise]\n",
    "        data[noise_size]['mean']['cost_state'] += [cost_state]\n",
    "        data[noise_size]['mean']['cost_control'] += [cost_control]\n",
    "        data[noise_size]['mean']['cost_col'] += [cost_col]\n",
    "        data[noise_size]['mean']['cost_goal'] += [cost_goal]\n",
    "\n",
    "        #data feedback\n",
    "        cost_state, cost_control, cost_col, cost_goal  = calc_detail_cost(xs_res_feed, us_res_feed, ddp)\n",
    "        data[noise_size]['feed']['xs'] += [xs_res_feed]\n",
    "        data[noise_size]['feed']['us'] += [us_res_feed]\n",
    "        data[noise_size]['feed']['cost'] += [cost_feed]\n",
    "        data[noise_size]['feed']['noise'] += [noise]\n",
    "        data[noise_size]['feed']['cost_state'] += [cost_state]\n",
    "        data[noise_size]['feed']['cost_control'] += [cost_control]\n",
    "        data[noise_size]['feed']['cost_col'] += [cost_col]\n",
    "        data[noise_size]['feed']['cost_goal'] += [cost_goal]\n",
    "\n",
    "\n",
    "        #data margin\n",
    "        cost_state, cost_control, cost_col, cost_goal  = calc_detail_cost(xs_res_dist, us_res_dist, ddp)\n",
    "        data[noise_size]['marg']['xs'] += [xs_res_dist]\n",
    "        data[noise_size]['marg']['us'] += [us_res_dist]\n",
    "        data[noise_size]['marg']['x_ref_set'] += [x_ref_dist_set]\n",
    "        data[noise_size]['marg']['x_output_set'] += [x_output_dist_set]\n",
    "        data[noise_size]['marg']['cost'] += [cost_dist]\n",
    "        data[noise_size]['marg']['noise'] += [noise]\n",
    "        data[noise_size]['marg']['cost_state'] += [cost_state]\n",
    "        data[noise_size]['marg']['cost_control'] += [cost_control]\n",
    "        data[noise_size]['marg']['cost_col'] += [cost_col]\n",
    "        data[noise_size]['marg']['cost_goal'] += [cost_goal]\n",
    "\n",
    "        #data \n",
    "        cost_state, cost_control, cost_col, cost_goal  = calc_detail_cost(xs_res_cond, us_res_cond, ddp)\n",
    "        data[noise_size]['cond']['xs'] += [xs_res_cond]\n",
    "        data[noise_size]['cond']['us'] += [us_res_cond]\n",
    "        data[noise_size]['cond']['x_ref_set'] += [x_ref_cond_set]\n",
    "        data[noise_size]['cond']['x_output_set'] += [x_output_cond_set]\n",
    "        data[noise_size]['cond']['cost'] += [cost_cond]\n",
    "        data[noise_size]['cond']['noise'] += [noise]\n",
    "        data[noise_size]['cond']['cost_state'] += [cost_state]\n",
    "        data[noise_size]['cond']['cost_control'] += [cost_control]\n",
    "        data[noise_size]['cond']['cost_col'] += [cost_col]\n",
    "        data[noise_size]['cond']['cost_goal'] += [cost_goal]\n",
    "\n",
    "#         print('Feedback: {}, Mean: {}, Dist: {}, Cond: {}'.format(cost_feed, cost_mean, cost_dist, cost_cond))\n",
    "#         print('cost_state, cost_control, cost_col,  cost_goal')\n",
    "#         cost_state, cost_control, cost_col, cost_goal = calc_detail_cost(xs_res_feed, us_res_feed, ddp)\n",
    "#         print('feed', cost_state, cost_control, np.sum(cost_col), cost_goal)\n",
    "#         cost_state, cost_control, cost_col, cost_goal = calc_detail_cost(xs_mean, us_mean, ddp)\n",
    "#         print('mean', cost_state, cost_control, np.sum(cost_col), cost_goal)\n",
    "#         cost_state, cost_control, cost_col, cost_goal = calc_detail_cost(xs_res_dist, us_res_dist, ddp)\n",
    "#         print('dist', cost_state, cost_control, np.sum(cost_col), cost_goal)\n",
    "#         cost_state, cost_control, cost_col, cost_goal = calc_detail_cost(xs_res_cond, us_res_cond, ddp)\n",
    "#         print('cond', cost_state, cost_control, np.sum(cost_col), cost_goal)"
   ]
  },
  {
   "cell_type": "code",
   "execution_count": 108,
   "metadata": {},
   "outputs": [
    {
     "name": "stdout",
     "output_type": "stream",
     "text": [
      "Computation takes 163.043580055\n"
     ]
    }
   ],
   "source": [
    "for noise_size in noise_sizes:\n",
    "    for method_name in method_names:\n",
    "        for field_name in field_names:\n",
    "            data[noise_size][method_name][field_name] = np.array(data[noise_size][method_name][field_name])\n",
    "    \n",
    "\n",
    "toc = time.time()\n",
    "print('Computation takes {}'.format(toc-tic))"
   ]
  },
  {
   "cell_type": "code",
   "execution_count": 109,
   "metadata": {},
   "outputs": [],
   "source": [
    "np.save('data/ilqr_'+sys_name+'11_varying.npy', data)"
   ]
  },
  {
   "cell_type": "raw",
   "metadata": {},
   "source": [
    "## np.save('data/ilqr_'+sys_name+'.npy', data)"
   ]
  },
  {
   "cell_type": "raw",
   "metadata": {},
   "source": [
    "np.save('data/ilqr_'+sys_name+'2.npy', data)"
   ]
  },
  {
   "cell_type": "raw",
   "metadata": {},
   "source": [
    "np.save('data/ilqr_'+sys_name+'3.npy', data)"
   ]
  },
  {
   "cell_type": "raw",
   "metadata": {},
   "source": [
    "from playsound import playsound\n",
    " \n",
    "playsound('data/phantom.mp3')"
   ]
  },
  {
   "cell_type": "raw",
   "metadata": {},
   "source": [
    "data = np.load('data/ilqr_'+sys_name+'.npy', allow_pickle=True)[()]\n",
    "\n",
    "for method in method_names:\n",
    "    print(method, data['small'][method]['cost'])"
   ]
  }
 ],
 "metadata": {
  "kernelspec": {
   "display_name": "Python 3",
   "language": "python",
   "name": "python3"
  },
  "language_info": {
   "codemirror_mode": {
    "name": "ipython",
    "version": 3
   },
   "file_extension": ".py",
   "mimetype": "text/x-python",
   "name": "python",
   "nbconvert_exporter": "python",
   "pygments_lexer": "ipython3",
   "version": "3.9.5"
  },
  "toc": {
   "base_numbering": 1,
   "nav_menu": {},
   "number_sections": true,
   "sideBar": true,
   "skip_h1_title": false,
   "title_cell": "Table of Contents",
   "title_sidebar": "Contents",
   "toc_cell": false,
   "toc_position": {},
   "toc_section_display": true,
   "toc_window_display": false
  }
 },
 "nbformat": 4,
 "nbformat_minor": 4
}
